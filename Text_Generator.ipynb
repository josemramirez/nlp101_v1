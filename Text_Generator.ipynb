{
 "cells": [
  {
   "cell_type": "markdown",
   "id": "d44d7236",
   "metadata": {
    "slideshow": {
     "slide_type": "slide"
    }
   },
   "source": [
    "# Text Generation: introductory course (v1.0):\n",
    "<img src=\"images/Logo_Labs_v3.png\" style=\"width:500;height:150px;\">"
   ]
  },
  {
   "cell_type": "markdown",
   "id": "661995e4",
   "metadata": {
    "slideshow": {
     "slide_type": "slide"
    }
   },
   "source": [
    "<img src=\"Clase1_v2/Clase1_v2.001.png\" style=\"width:600;height:400px;\">\n",
    "<img src=\"Clase1_v2/Clase1_v2.002.png\" style=\"width:600;height:400px;\">\n",
    "<img src=\"Clase1_v2/Clase1_v2.003.png\" style=\"width:600;height:400px;\">\n",
    "<img src=\"Clase1_v2/Clase1_v2.004.png\" style=\"width:600;height:400px;\">\n",
    "<img src=\"Clase1_v2/Clase1_v2.005.png\" style=\"width:600;height:400px;\">\n",
    "<img src=\"Clase1_v2/Clase1_v2.006.png\" style=\"width:600;height:400px;\">\n",
    "<img src=\"Clase1_v2/Clase1_v2.007.png\" style=\"width:600;height:400px;\">\n",
    "<img src=\"Clase1_v2/Clase1_v2.008.png\" style=\"width:600;height:400px;\">\n",
    "<img src=\"Clase1_v2/Clase1_v2.009.png\" style=\"width:600;height:400px;\">\n",
    "<img src=\"Clase1_v2/Clase1_v2.010.png\" style=\"width:600;height:400px;\">\n",
    "<img src=\"Clase1_v2/Clase1_v2.011.png\" style=\"width:600;height:400px;\">\n",
    "<img src=\"Clase1_v2/Clase1_v2.020.png\" style=\"width:600;height:400px;\">\n",
    "-----------------------------------------------------------------------------------------------------------------------------\n",
    "<img src=\"Clase1_v2/Clase1_v2.021.png\" style=\"width:600;height:400px;\">\n",
    "-----------------------------------------------------------------------------------------------------------------------------\n",
    "<img src=\"Clase1_v2/Clase1_v2.012.png\" style=\"width:600;height:400px;\">\n",
    "<img src=\"Clase1_v2/Clase1_v2.013.png\" style=\"width:600;height:400px;\">\n",
    "<img src=\"Clase1_v2/Clase1_v2.014.png\" style=\"width:600;height:400px;\">"
   ]
  },
  {
   "cell_type": "markdown",
   "id": "d39420cc",
   "metadata": {},
   "source": [
    "[Para interactuar con la presentación ir a:](https://www.menti.com/cnefacajg5)"
   ]
  },
  {
   "cell_type": "markdown",
   "id": "fcc8d222",
   "metadata": {
    "slideshow": {
     "slide_type": "slide"
    }
   },
   "source": [
    "# Algunos parametros para graficar (no prestar mucha atención)"
   ]
  },
  {
   "cell_type": "code",
   "execution_count": 1,
   "id": "39eeca9e",
   "metadata": {
    "code_folding": [
     0
    ],
    "slideshow": {
     "slide_type": "fragment"
    }
   },
   "outputs": [],
   "source": [
    "## -- Correr de todas formas...\n",
    "\n",
    "###### ------------ Credit --\n",
    "###### https://github.com/jermwatt/machine_learning_refined\n",
    "# import standard plotting and animation\n",
    "import matplotlib.pyplot as plt\n",
    "import matplotlib.animation as animation\n",
    "from mpl_toolkits.mplot3d import Axes3D\n",
    "from IPython.display import clear_output\n",
    "\n",
    "# import autograd functionality\n",
    "from autograd import grad as compute_grad   # The only autograd function you may ever need\n",
    "import autograd.numpy as np\n",
    "from autograd import hessian as compute_hess\n",
    "import math\n",
    "import time\n",
    "from matplotlib import gridspec\n",
    "import copy\n",
    "from autograd.misc.flatten import flatten_func\n",
    "\n",
    "\n",
    "### visualize the surface plot of cost function ###\n",
    "def surface_plot(g,ax,wmax,view):\n",
    "    ##### Produce cost function surface #####\n",
    "    r = np.linspace(-wmax,wmax,200)\n",
    "\n",
    "    # create grid from plotting range\n",
    "    w1_vals,w2_vals = np.meshgrid(r,r)\n",
    "    w1_vals.shape = (len(r)**2,1)\n",
    "    w2_vals.shape = (len(r)**2,1)\n",
    "    w_ = np.concatenate((w1_vals,w2_vals),axis = 1)\n",
    "    g_vals = []\n",
    "    for i in range(len(r)**2):\n",
    "        g_vals.append(g(w_[i,:]))\n",
    "    g_vals = np.asarray(g_vals)\n",
    "\n",
    "    w1_vals.shape = (np.size(r),np.size(r))\n",
    "    w2_vals.shape = (np.size(r),np.size(r))\n",
    "\n",
    "    ### is this a counting cost?  if so re-calculate ###\n",
    "    levels = np.unique(g_vals)\n",
    "    if np.size(levels) < 30:\n",
    "        # plot each level of the counting cost\n",
    "        levels = np.unique(g_vals)\n",
    "        for u in levels:\n",
    "            # make copy of cost and nan out all non level entries\n",
    "            z = g_vals.copy()\n",
    "            ind = np.argwhere(z != u)\n",
    "            ind = [v[0] for v in ind]\n",
    "            z[ind] = np.nan\n",
    "\n",
    "            # plot the current level\n",
    "            z.shape = (len(r),len(r)) \n",
    "            ax.plot_surface(w1_vals,w2_vals,z,alpha = 0.4,color = '#696969',zorder = 0,shade = True,linewidth=0)\n",
    "\n",
    "    else: # smooth cost function, plot usual\n",
    "        # reshape and plot the surface, as well as where the zero-plane is\n",
    "        g_vals.shape = (np.size(r),np.size(r))\n",
    "\n",
    "        # plot cost surface\n",
    "        ax.plot_surface(w1_vals,w2_vals,g_vals,alpha = 0.1,color = 'w',rstride=25, cstride=25,linewidth=1,edgecolor = 'k',zorder = 2)  \n",
    "\n",
    "    ### clean up panel ###\n",
    "    ax.xaxis.pane.fill = False\n",
    "    ax.yaxis.pane.fill = False\n",
    "    ax.zaxis.pane.fill = False\n",
    "\n",
    "    ax.xaxis.pane.set_edgecolor('white')\n",
    "    ax.yaxis.pane.set_edgecolor('white')\n",
    "    ax.zaxis.pane.set_edgecolor('white')\n",
    "\n",
    "    ax.xaxis._axinfo[\"grid\"]['color'] =  (1,1,1,0)\n",
    "    ax.yaxis._axinfo[\"grid\"]['color'] =  (1,1,1,0)\n",
    "    ax.zaxis._axinfo[\"grid\"]['color'] =  (1,1,1,0)\n",
    "\n",
    "    ax.set_xlabel(r'$w_0$',fontsize = 12)\n",
    "    ax.set_ylabel(r'$w_1$',fontsize = 12,rotation = 0)\n",
    "\n",
    "    ax.view_init(view[0],view[1])\n",
    "    \n",
    "## -- Un optimizador para conseguir parametros abajo!! --\n",
    "\n",
    "class MyOptimizersLS1:\n",
    "    '''\n",
    "    A list of current optimizers.  In each case - since these are used for educational purposes - the weights at each step are recorded and returned.\n",
    "    '''\n",
    "\n",
    "    ### gradient descent ###\n",
    "    def gradient_descent(self,g,w,**kwargs):                \n",
    "        # create gradient function\n",
    "        self.g = g\n",
    "        self.grad = compute_grad(self.g)\n",
    "        \n",
    "        # parse optional arguments        \n",
    "        max_its = 100\n",
    "        if 'max_its' in kwargs:\n",
    "            max_its = kwargs['max_its']\n",
    "        version = 'unnormalized'\n",
    "        if 'version' in kwargs:\n",
    "            version = kwargs['version']\n",
    "        alpha = 10**-4\n",
    "        if 'alpha' in kwargs:\n",
    "            alpha = kwargs['alpha']\n",
    "        steplength_rule = 'none'    \n",
    "        if 'steplength_rule' in kwargs:\n",
    "            steplength_rule = kwargs['steplength_rule']\n",
    "        projection = 'None'\n",
    "        if 'projection' in kwargs:\n",
    "            projection = kwargs['projection']\n",
    "        verbose = False\n",
    "        if 'verbose' in kwargs:\n",
    "            verbose = kwargs['verbose']\n",
    "       \n",
    "        # create container for weight history \n",
    "        w_hist = []\n",
    "        w_hist.append(w)\n",
    "        \n",
    "        # start gradient descent loop\n",
    "        if verbose == True:\n",
    "            print ('starting optimization...')\n",
    "        for k in range(max_its):   \n",
    "            # plug in value into func and derivative\n",
    "            grad_eval = self.grad(w)\n",
    "            grad_eval.shape = np.shape(w)\n",
    "            \n",
    "            ### normalized or unnormalized descent step? ###\n",
    "            if version == 'normalized':\n",
    "                grad_norm = np.linalg.norm(grad_eval)\n",
    "                if grad_norm == 0:\n",
    "                    grad_norm += 10**-6*np.sign(2*np.random.rand(1) - 1)\n",
    "                grad_eval /= grad_norm\n",
    "            \n",
    "            # use backtracking line search?\n",
    "            if steplength_rule == 'backtracking':\n",
    "                alpha = self.backtracking(w,grad_eval)\n",
    "                \n",
    "            # use a pre-set diminishing steplength parameter?\n",
    "            if steplength_rule == 'diminishing':\n",
    "                alpha = 1/(float(k + 1))\n",
    "            \n",
    "            ### take gradient descent step ###\n",
    "            w = w - alpha*grad_eval\n",
    "            \n",
    "            # record\n",
    "            w_hist.append(w)     \n",
    "         \n",
    "        if verbose == True:\n",
    "            print ('...optimization complete!')\n",
    "            time.sleep(1.5)\n",
    "            clear_output()\n",
    "        \n",
    "        return w_hist\n",
    "\n",
    "    # backtracking linesearch module\n",
    "    def backtracking(self,w,grad_eval):\n",
    "        # set input parameters\n",
    "        alpha = 1\n",
    "        t = 0.8\n",
    "        \n",
    "        # compute initial function and gradient values\n",
    "        func_eval = self.g(w)\n",
    "        grad_norm = np.linalg.norm(grad_eval)**2\n",
    "        \n",
    "        # loop over and tune steplength\n",
    "        while self.g(w - alpha*grad_eval) > func_eval - alpha*0.5*grad_norm:\n",
    "            alpha = t*alpha\n",
    "        return alpha\n",
    "            \n",
    "    #### newton's method ####            \n",
    "    def newtons_method(self,g,w,**kwargs):        \n",
    "        # create gradient and hessian functions\n",
    "        self.g = g\n",
    "        \n",
    "        # flatten gradient for simpler-written descent loop\n",
    "        flat_g, unflatten, w = flatten_func(self.g, w)\n",
    "        \n",
    "        self.grad = compute_grad(flat_g)\n",
    "        self.hess = compute_hess(flat_g)  \n",
    "        \n",
    "        # parse optional arguments        \n",
    "        max_its = 20\n",
    "        if 'max_its' in kwargs:\n",
    "            max_its = kwargs['max_its']\n",
    "        self.epsilon = 10**(-5)\n",
    "        if 'epsilon' in kwargs:\n",
    "            self.epsilon = kwargs['epsilon']\n",
    "        verbose = False\n",
    "        if 'verbose' in kwargs:\n",
    "            verbose = kwargs['verbose']\n",
    "        \n",
    "        # create container for weight history \n",
    "        w_hist = []\n",
    "        w_hist.append(unflatten(w))\n",
    "        \n",
    "        # start newton's method loop  \n",
    "        if verbose == True:\n",
    "            print ('starting optimization...')\n",
    "            \n",
    "        geval_old = flat_g(w)\n",
    "        for k in range(max_its):\n",
    "            # compute gradient and hessian\n",
    "            grad_val = self.grad(w)\n",
    "            hess_val = self.hess(w)\n",
    "            hess_val.shape = (np.size(w),np.size(w))\n",
    "\n",
    "            # solve linear system for weights\n",
    "            w = w - np.dot(np.linalg.pinv(hess_val + self.epsilon*np.eye(np.size(w))),grad_val)\n",
    "                    \n",
    "            # eject from process if reaching singular system\n",
    "            geval_new = flat_g(w)\n",
    "            if k > 2 and geval_new > geval_old:\n",
    "                print ('singular system reached')\n",
    "                time.sleep(1.5)\n",
    "                clear_output()\n",
    "                return w_hist\n",
    "            else:\n",
    "                geval_old = geval_new\n",
    "                \n",
    "            # record current weights\n",
    "            w_hist.append(unflatten(w))\n",
    "            \n",
    "        if verbose == True:\n",
    "            print ('...optimization complete!')\n",
    "            time.sleep(1.5)\n",
    "            clear_output()\n",
    "        \n",
    "        return w_hist\n",
    "\n",
    "    \n",
    "#### -----\n",
    "def putStyle(sFont,syT,top1,R1):\n",
    "    import matplotlib as mpl\n",
    "    import matplotlib.style as style\n",
    "    style.available\n",
    "    ## Escogamos un tema \n",
    "    style.use('fivethirtyeight')\n",
    "\n",
    "    # General plot parameters\n",
    "    mpl.rcParams['font.family'] = 'Avenir'\n",
    "    mpl.rcParams['font.size'] = sFont\n",
    "    mpl.rcParams['axes.linewidth'] = 4\n",
    "    mpl.rcParams['axes.spines.bottom'] = top1\n",
    "    mpl.rcParams['axes.spines.right'] = R1\n",
    "    mpl.rcParams['xtick.major.size'] = 10\n",
    "    mpl.rcParams['xtick.major.width'] = 2\n",
    "    mpl.rcParams['ytick.major.size'] = 10\n",
    "    mpl.rcParams['ytick.major.width'] = syT\n",
    "    mpl.rcParams['lines.linewidth']= 3"
   ]
  },
  {
   "cell_type": "markdown",
   "id": "8a03ec52",
   "metadata": {
    "slideshow": {
     "slide_type": "slide"
    }
   },
   "source": [
    "<img src=\"Clase1_v2/Clase1_v2.015.png\" style=\"width:600;height:400px;\">\n",
    "<img src=\"Clase1_v2/Clase1_v2.016.png\" style=\"width:600;height:400px;\">\n",
    "<img src=\"Clase1_v2/Clase1_v2.017.png\" style=\"width:600;height:400px;\">\n",
    "<img src=\"Clase1_v2/Clase1_v2.018.png\" style=\"width:600;height:400px;\">"
   ]
  },
  {
   "cell_type": "markdown",
   "id": "506567f6",
   "metadata": {
    "slideshow": {
     "slide_type": "slide"
    }
   },
   "source": [
    "# Analogía con la predicción de la velocidad de un objeto"
   ]
  },
  {
   "cell_type": "code",
   "execution_count": 42,
   "id": "7050837a",
   "metadata": {
    "slideshow": {
     "slide_type": "subslide"
    }
   },
   "outputs": [
    {
     "name": "stdout",
     "output_type": "stream",
     "text": [
      "[ 0.  1.  2.  3.  4.  5.  6.  7.  8.  9. 10.]\n",
      "[0.0, 0.8333333333333334, 1.6666666666666667, 2.5, 3.3333333333333335, 4.166666666666667, 5.0, 5.833333333333334, 6.666666666666667, 7.5, 8.333333333333334]\n"
     ]
    }
   ],
   "source": [
    "import numpy as np\n",
    "# El tiempo --\n",
    "t = np.linspace(0, 10, 11)\n",
    "print(t)\n",
    "# La fuerza\n",
    "F=5\n",
    "# la masa\n",
    "m=6\n",
    "# La velocidad inicial\n",
    "v0=0.\n",
    "# Las velocidades:\n",
    "v=[vi+v0 for vi in (F/m*t)]\n",
    "print(v)"
   ]
  },
  {
   "cell_type": "code",
   "execution_count": 43,
   "id": "cdaf2edf",
   "metadata": {
    "code_folding": [
     0
    ]
   },
   "outputs": [],
   "source": [
    "#To start, using the set style allows us to easily elevate the level of our visualization\n",
    "import matplotlib.style as style\n",
    "style.available\n",
    "## Escogamos un tema \n",
    "style.use('fivethirtyeight')"
   ]
  },
  {
   "cell_type": "code",
   "execution_count": 44,
   "id": "f103bc7a",
   "metadata": {},
   "outputs": [
    {
     "data": {
      "image/png": "[encoded data removed]",
      "text/plain": [
       "<Figure size 640x480 with 1 Axes>"
      ]
     },
     "metadata": {},
     "output_type": "display_data"
    }
   ],
   "source": [
    "import matplotlib.pyplot as plt\n",
    "# --\n",
    "plt.plot(t, v, \n",
    "         color = 'blue', marker = \"o\", markersize=17)\n",
    "plt.title(\"Predicción de la velocidad --\")\n",
    "plt.xlabel(\"t\")\n",
    "plt.ylabel(\"v(t)\")\n",
    "# The signature bar\n",
    "plt.text(x = -1.7, y = -2,\n",
    "    s = ' ©DronesPeiskos                                  Source: 2da Ley de Newton ',\n",
    "              fontsize = 14, color = '#f0f0f0', backgroundcolor = 'grey');"
   ]
  },
  {
   "cell_type": "markdown",
   "id": "38affaf6",
   "metadata": {},
   "source": [
    "<img src=\"Clase1_v2/Clase1_v2.020.png\" style=\"width:600;height:400px;\">\n",
    "-----------------------------------------------------------------------------------------------------------------------------\n",
    "<img src=\"Clase1_v2/Clase1_v2.025.png\" style=\"width:600;height:400px;\">"
   ]
  },
  {
   "cell_type": "markdown",
   "id": "26b6f861",
   "metadata": {},
   "source": [
    "<img src=\"Clase1_v2/Clase1_v2.015.png\" style=\"width:600;height:400px;\">"
   ]
  },
  {
   "cell_type": "markdown",
   "id": "0a05d297",
   "metadata": {},
   "source": [
    "## Tanh(x)"
   ]
  },
  {
   "cell_type": "code",
   "execution_count": 45,
   "id": "0b841063",
   "metadata": {},
   "outputs": [
    {
     "name": "stdout",
     "output_type": "stream",
     "text": [
      "in_array :  [-3.14159265 -2.57039399 -1.99919533 -1.42799666 -0.856798   -0.28559933\n",
      "  0.28559933  0.856798    1.42799666  1.99919533  2.57039399  3.14159265]\n",
      "\n",
      "out_array :  [-0.99627208 -0.98836197 -0.96397069 -0.89125532 -0.69460424 -0.27807943\n",
      "  0.27807943  0.69460424  0.89125532  0.96397069  0.98836197  0.99627208]\n"
     ]
    },
    {
     "data": {
      "image/png": "[encoded data removed]",
      "text/plain": [
       "<Figure size 640x480 with 1 Axes>"
      ]
     },
     "metadata": {},
     "output_type": "display_data"
    }
   ],
   "source": [
    "# Python program showing Graphical\n",
    "# representation of tanh() function\n",
    "import numpy as np\n",
    "import matplotlib.pyplot as plt\n",
    "\n",
    "## --- Estilo --\n",
    "putStyle(14,2,True,True)\n",
    "## -------------\n",
    "\n",
    "in_array = np.linspace(-np.pi, np.pi, 12)\n",
    "out_array = np.tanh(in_array)\n",
    "  \n",
    "print(\"in_array : \", in_array)\n",
    "print(\"\\nout_array : \", out_array)\n",
    "  \n",
    "# red for numpy.tanh()\n",
    "plt.plot(in_array, out_array, \n",
    "         color = 'blue', marker = \"o\", markersize=17)\n",
    "plt.title(\"A simple tanh(x) function --\")\n",
    "plt.xlabel(\"X\")\n",
    "plt.ylabel(\"Y\")\n",
    "plt.show()"
   ]
  },
  {
   "cell_type": "markdown",
   "id": "3a9ceb30",
   "metadata": {},
   "source": [
    "# Operaciones con vectores y matrices:"
   ]
  },
  {
   "cell_type": "markdown",
   "id": "5420c5a6",
   "metadata": {},
   "source": [
    "## Sumando dos vectores o matrices\n",
    "\n",
    "<div class=\"alert alert-block alert-info\" style=\"font-size:24px; font-family:verdana; line-height: 1.7em;\">\n",
    "    📌 &nbsp; \n",
    "\n",
    " <b>A</b> + <b>B</b> \n",
    "    \n",
    " </div>"
   ]
  },
  {
   "cell_type": "code",
   "execution_count": 46,
   "id": "d02e5ca1",
   "metadata": {},
   "outputs": [
    {
     "data": {
      "text/plain": [
       "array([5, 7, 9])"
      ]
     },
     "execution_count": 46,
     "metadata": {},
     "output_type": "execute_result"
    }
   ],
   "source": [
    "A=np.array([1,2,3]);\n",
    "B=np.array([4,5,6]);\n",
    "A+B"
   ]
  },
  {
   "cell_type": "markdown",
   "id": "64cd8555",
   "metadata": {},
   "source": [
    "<div class=\"alert alert-block alert-info\" style=\"font-size:24px; font-family:verdana; line-height: 1.7em;\">\n",
    "    📌 &nbsp; \n",
    "    \n",
    "### Matrices\n",
    " <b>A</b> + <b>B</b> \n",
    "    \n",
    " </div>"
   ]
  },
  {
   "cell_type": "code",
   "execution_count": 47,
   "id": "f111940e",
   "metadata": {},
   "outputs": [
    {
     "data": {
      "text/plain": [
       "array([[ 1,  2,  3],\n",
       "       [11, 22, 33]])"
      ]
     },
     "execution_count": 47,
     "metadata": {},
     "output_type": "execute_result"
    }
   ],
   "source": [
    "np.array([[1,2,3],[11,22,33]])"
   ]
  },
  {
   "cell_type": "code",
   "execution_count": 48,
   "id": "4b9ce2a5",
   "metadata": {},
   "outputs": [
    {
     "data": {
      "text/plain": [
       "array([[ 5,  7,  9],\n",
       "       [55, 77, 99]])"
      ]
     },
     "execution_count": 48,
     "metadata": {},
     "output_type": "execute_result"
    }
   ],
   "source": [
    "A=np.array([[1,2,3],[11,22,33]]);\n",
    "B=np.array([[4,5,6],[44,55,66]]);\n",
    "A+B"
   ]
  },
  {
   "cell_type": "markdown",
   "id": "48b7f75c",
   "metadata": {},
   "source": [
    "## multiplicando dos vectores o matrices\n",
    "\n",
    "<div class=\"alert alert-block alert-info\" style=\"font-size:24px; font-family:verdana; line-height: 1.7em;\">\n",
    "    📌 &nbsp; \n",
    "\n",
    " <b>A</b> * <b>B</b> \n",
    "    \n",
    " </div>"
   ]
  },
  {
   "cell_type": "code",
   "execution_count": 49,
   "id": "9fbc57ff",
   "metadata": {},
   "outputs": [
    {
     "name": "stdout",
     "output_type": "stream",
     "text": [
      "El producto punto: \n",
      " [[ 125  181  237]\n",
      " [1375 1991 2607]]\n"
     ]
    }
   ],
   "source": [
    "A=np.array([[1,2,3],[11,22,33]]);\n",
    "B=np.array([[4,5,6],[44,55,66],[11,22,33]]);\n",
    "## Producto punto\n",
    "print('El producto punto: \\n', \n",
    "      np.dot(A,B))\n",
    "##"
   ]
  },
  {
   "cell_type": "code",
   "execution_count": 50,
   "id": "baa3ad41",
   "metadata": {},
   "outputs": [
    {
     "data": {
      "text/plain": [
       "array([[   4,   10,   18],\n",
       "       [ 484, 1210, 2178]])"
      ]
     },
     "execution_count": 50,
     "metadata": {},
     "output_type": "execute_result"
    }
   ],
   "source": [
    "A=np.array([[1,2,3],[11,22,33]]);\n",
    "B=np.array([[4,5,6],[44,55,66]]);\n",
    "## Un producto diferente que se llama element-wise product.\n",
    "A*B"
   ]
  },
  {
   "cell_type": "markdown",
   "id": "42681356",
   "metadata": {},
   "source": [
    "<div class=\"alert alert-block alert-info\" style=\"font-size:44px; font-family:verdana; line-height: 1.7em;\">\n",
    "    📌 &nbsp; \n",
    "\n",
    "Element-wise product -\n",
    "    \n",
    "$$ C = A \\circ B $$\n",
    "    \n",
    "</div>"
   ]
  },
  {
   "cell_type": "markdown",
   "id": "4ffada71",
   "metadata": {},
   "source": [
    "# ¿Cómo queda una RNN en Python?"
   ]
  },
  {
   "cell_type": "markdown",
   "id": "05a6df89",
   "metadata": {},
   "source": [
    "<div class=\"alert alert-block alert-info\" style=\"font-size:24px; font-family:verdana; line-height: 1.7em;\">\n",
    "    📌 &nbsp; \n",
    "    \n",
    "$$ h_t = \\sigma_h(W_h x_t + U_h h_{(t-1)}+b_h) $$\n",
    "$$ y_t = SOFTMAX_y(W_y h_t + b_y) $$\n",
    "    \n",
    "</div>"
   ]
  },
  {
   "cell_type": "markdown",
   "id": "90bc8b59",
   "metadata": {},
   "source": [
    "<img src=\"Clase1_v2/Clase1_v2.015.png\" style=\"width:600;height:400px;\">"
   ]
  },
  {
   "cell_type": "code",
   "execution_count": 51,
   "id": "0f41f94a",
   "metadata": {},
   "outputs": [],
   "source": [
    "import numpy as np\n",
    "# Definición de Softmax --\n",
    "def softmax(x):\n",
    "    \"\"\"Compute softmax values for each sets of y.\"\"\"\n",
    "    e_x = np.exp(x - np.max(x))\n",
    "    return e_x / e_x.sum(axis=0) #"
   ]
  },
  {
   "cell_type": "markdown",
   "id": "cf36d4a1",
   "metadata": {},
   "source": [
    "# $$ y(x)^{SOFTMAX} = \\frac{ \\exp(x-x_{max})} { \\sum{\\exp(x)} }$$"
   ]
  },
  {
   "cell_type": "code",
   "execution_count": 52,
   "id": "9ea7121c",
   "metadata": {},
   "outputs": [
    {
     "data": {
      "text/plain": [
       "array([0.31002552, 0.68997448])"
      ]
     },
     "execution_count": 52,
     "metadata": {},
     "output_type": "execute_result"
    }
   ],
   "source": [
    "softmax([0.4, 1.2])"
   ]
  },
  {
   "cell_type": "markdown",
   "id": "3be89978",
   "metadata": {},
   "source": [
    "<img src=\"Clase1_v2/Clase1_v2.030.png\" style=\"width:600;height:400px;\">\n",
    "<img src=\"Clase1_v2/Clase1_v2.031.png\" style=\"width:600;height:400px;\">\n",
    "<img src=\"Clase1_v2/Clase1_v2.032.png\" style=\"width:600;height:400px;\">\n",
    "<img src=\"Clase1_v2/Clase1_v2.033.png\" style=\"width:600;height:400px;\">"
   ]
  },
  {
   "cell_type": "code",
   "execution_count": 53,
   "id": "a1ef77ac",
   "metadata": {},
   "outputs": [
    {
     "data": {
      "image/png": "[encoded data removed]",
      "text/plain": [
       "<Figure size 640x480 with 1 Axes>"
      ]
     },
     "metadata": {},
     "output_type": "display_data"
    }
   ],
   "source": [
    "# numpy.tanh()\n",
    "plt.plot(in_array, out_array, \n",
    "         color = 'blue', marker = \"o\", markersize=17)\n",
    "plt.xlabel(\"X\")\n",
    "plt.ylabel(\"Y\")\n",
    "plt.show()"
   ]
  },
  {
   "cell_type": "code",
   "execution_count": null,
   "id": "b9c985d6",
   "metadata": {},
   "outputs": [],
   "source": [
    "## -- Una función: Explicar!\n",
    "def RNN_cell(xt, a_prev, parameters):\n",
    "    \n",
    "    # Retira los parametros de \"parameters\"\n",
    "    Wax = parameters[\"Wax\"]\n",
    "    Waa = parameters[\"Waa\"]\n",
    "    Wya = parameters[\"Wya\"]\n",
    "    ba = parameters[\"ba\"]\n",
    "    by = parameters[\"by\"]\n",
    "    \n",
    "    \n",
    "    # Como dice arriba -- ####################################\n",
    "    a_next1 = np.tanh(np.dot(Waa,a_prev)+np.dot(Wax,xt)+ba)\n",
    "    ##########################################################\n",
    "    \n",
    "    \n",
    "    # Esto es lo predicho --\n",
    "    yt_pred1 = softmax(np.dot(Wya,a_next1)+by)\n",
    "    \n",
    "    # Almacena valores para usar luego --\n",
    "    cache1 = (a_next1, a_prev, xt, parameters)\n",
    "    \n",
    "    return a_next1, yt_pred1, cache1"
   ]
  },
  {
   "cell_type": "code",
   "execution_count": null,
   "id": "3bd1ec4a",
   "metadata": {},
   "outputs": [],
   "source": [
    "nxt=1; mxt=1;\n",
    "nap1=1; map1=mxt;\n",
    "nya=2; mya=nap1;\n",
    "mba=1;\n",
    "\n",
    "np.random.seed(1)\n",
    "xt = np.random.randn(nxt,mxt)\n",
    "a_prev = np.random.randn(nap1,mxt)\n",
    "\n",
    "\n",
    "## -- Creación de un diccionario: Explicar!\n",
    "parameters = {}\n",
    "# -----------------------------------------\n",
    "parameters['Waa'] = np.random.randn(nap1,nap1)\n",
    "parameters['Wax'] = np.random.randn(nap1,nxt)\n",
    "parameters['Wya'] = np.random.randn(nya,mya)\n",
    "parameters['ba'] = np.random.randn(nap1,mba)\n",
    "parameters['by'] = np.random.randn(nya,mba)\n",
    "RNN_cell(xt, a_prev, parameters)"
   ]
  },
  {
   "cell_type": "code",
   "execution_count": null,
   "id": "ac9009f9",
   "metadata": {},
   "outputs": [],
   "source": [
    "from IPython.display import display, Math\n",
    "\n",
    "def print_matrix(array):\n",
    "    data = ''\n",
    "    for line in array:        \n",
    "        if len(line) == 1:\n",
    "            data += ' %.3f'%line #+ r' \\\\\\n'\n",
    "            continue\n",
    "        for element in line:\n",
    "            data += ' %.3f  &'%element\n",
    "        data += r'\\\\' + '\\n'\n",
    "    display(Math('\\\\begin{bmatrix} \\n%s\\end{bmatrix}'%data))"
   ]
  },
  {
   "cell_type": "code",
   "execution_count": null,
   "id": "ccdcfe32",
   "metadata": {},
   "outputs": [],
   "source": [
    "print('This is only x: ', xt) \n",
    "print('This is only aprev: ', a_prev)\n",
    "print('This is by: ', parameters['by'])"
   ]
  },
  {
   "cell_type": "code",
   "execution_count": null,
   "id": "b54ae693",
   "metadata": {},
   "outputs": [],
   "source": [
    "print_matrix(xt)"
   ]
  },
  {
   "cell_type": "code",
   "execution_count": null,
   "id": "d681ecf9",
   "metadata": {},
   "outputs": [],
   "source": [
    "parameters"
   ]
  },
  {
   "cell_type": "code",
   "execution_count": null,
   "id": "10a364cc",
   "metadata": {},
   "outputs": [],
   "source": [
    "parameters['Waa'] = [[0.1]]\n",
    "parameters['Wax'] = [[0.1]]\n",
    "parameters['Wya'] = [[0.1],[0.35]]\n",
    "parameters['ba'] = [[0.1]]\n",
    "parameters['by'] = [[0.1],[0.1]]"
   ]
  },
  {
   "cell_type": "code",
   "execution_count": null,
   "id": "b9bdda9f",
   "metadata": {},
   "outputs": [],
   "source": [
    "a_prev"
   ]
  },
  {
   "cell_type": "code",
   "execution_count": null,
   "id": "a735fabb",
   "metadata": {},
   "outputs": [],
   "source": [
    "a_next, yt_pred, cache = RNN_cell([[0.08]], [[0.02]], parameters)"
   ]
  },
  {
   "cell_type": "code",
   "execution_count": null,
   "id": "e1b7d042",
   "metadata": {},
   "outputs": [],
   "source": [
    "print('This is only aNext: ', a_next[0]) # , a_next[1] \n",
    "print('This is only Yt: \\n\\n', yt_pred)\n",
    "print('\\n'*3)"
   ]
  },
  {
   "cell_type": "markdown",
   "id": "5936453b",
   "metadata": {},
   "source": [
    "# Entonces como es la dependencia de y con W? por ejemplo"
   ]
  },
  {
   "cell_type": "code",
   "execution_count": null,
   "id": "d2522c67",
   "metadata": {},
   "outputs": [],
   "source": [
    "import matplotlib.pyplot as plt\n",
    "## --- size point \n",
    "zp=5\n",
    "# --\n",
    "parameters['Waa'] = [[0.1]]\n",
    "parameters['Wax'] = [[0.1]]\n",
    "parameters['Wya'] = [[0.1],[0.1]]\n",
    "parameters['ba'] = [[0.1]]\n",
    "parameters['by'] = [[0.1],[0.1]] # Clave, que la forma de by sea asi! --\n",
    "\n",
    "for i in np.linspace(-10,10):\n",
    "    parameters['Wya'] = [[0.1],[i]] ## buena variación --\n",
    "    xlabel='Wya'\n",
    "    #parameters['by'] = [[0.1,i],[0.1,0.1]]\n",
    "    #xlabel='by'\n",
    "    \n",
    "    \n",
    "    \n",
    "    #################################################################\n",
    "    a_next, yt_pred, cache = RNN_cell([[0.1]], [[0.1]], parameters)\n",
    "    #################################################################\n",
    "    \n",
    "    \n",
    "    \n",
    "    plt.title(\"Predicción de y --\")\n",
    "    plt.xlabel(xlabel)\n",
    "    plt.ylabel(\"yt\")\n",
    "    ##### ------------------------\n",
    "    plcol='blue'\n",
    "    plt.plot(i, (yt_pred[0]), \n",
    "         color = plcol, marker = \"o\", markersize=zp)\n",
    "    plt.text(x = -7.5, y = 0.6, s = 'yt[0]',\n",
    "             color = plcol, weight = 'bold',fontsize=16, rotation = 0,\n",
    "              backgroundcolor = '#f0f0f0');\n",
    "    ## \n",
    "    plcol='red'\n",
    "    plt.plot(i, yt_pred[1], \n",
    "         color = plcol, marker = \"o\", markersize=zp)\n",
    "    plt.text(x = 7.5, y = 0.6, s = 'yt[1]',\n",
    "             color = plcol, weight = 'bold',fontsize=16, rotation = 0,\n",
    "              backgroundcolor = '#f0f0f0');"
   ]
  },
  {
   "cell_type": "code",
   "execution_count": null,
   "id": "67ac8144",
   "metadata": {},
   "outputs": [],
   "source": [
    "xt.shape"
   ]
  },
  {
   "cell_type": "markdown",
   "id": "dce02c4b",
   "metadata": {},
   "source": [
    "# Para varias celdas seguidas --"
   ]
  },
  {
   "cell_type": "markdown",
   "id": "531ec07f",
   "metadata": {},
   "source": [
    "<img src=\"Clase1_v2/Clase1_v2.029.png\" style=\"width:600;height:400px;\">"
   ]
  },
  {
   "cell_type": "code",
   "execution_count": null,
   "id": "050990e9",
   "metadata": {},
   "outputs": [],
   "source": [
    "def RNN_Hacia_Adelante(x, a0, parameters):\n",
    "    \n",
    "    # Arreglo para el Cache --\n",
    "    caches = []\n",
    "    \n",
    "    # Dimensiones --\n",
    "    n_x, m, T_x = x.shape\n",
    "    n_y, n_a = parameters[\"Wya\"].shape\n",
    "    \n",
    "    # Inicialización --\n",
    "    a = np.zeros((n_a,m,T_x))\n",
    "    yPred = np.zeros((n_y,m,T_x))\n",
    "    \n",
    "    # Inicialización de aNext --\n",
    "    a_next = np.zeros((n_a,m))\n",
    "    \n",
    "    # Loop sobre el tiempo\n",
    "    for t in range(T_x):\n",
    "        # cada xt\n",
    "        xt = x[:,:,t]\n",
    "        a_next, yt_pred, cache = RNN_cell(xt, a0, parameters)\n",
    "        # guardamos en un arreglo --\n",
    "        a[:,:,t] = a_next\n",
    "        # guardamos las ys --\n",
    "        yPred[:,:,t] = yt_pred\n",
    "        # guardamos en el cache --\n",
    "        caches.append(cache)\n",
    "    \n",
    "    # Guardamos para luego -- Backpropagation --\n",
    "    caches = (caches, x)\n",
    "    \n",
    "    return a, yPred, caches"
   ]
  },
  {
   "cell_type": "code",
   "execution_count": null,
   "id": "9cdb64fa",
   "metadata": {},
   "outputs": [],
   "source": [
    "## Cantidad de palabras en la oración o tiempo Tx\n",
    "Txt=2;\n",
    "\n",
    "nxt=1; mxt=1;\n",
    "nap1=1; map1=mxt;\n",
    "nya=2; mya=nap1;\n",
    "mba=1;\n",
    "\n",
    "np.random.seed(1)\n",
    "xt = np.random.randn(nxt,mxt,Txt)\n",
    "a0 = np.random.randn(nap1,mxt)\n",
    "\n",
    "\n",
    "## -- Creación de un diccionario: Explicar!\n",
    "parameters = {}\n",
    "# -----------------------------------------\n",
    "parameters['Waa'] = np.random.randn(nap1,nap1)\n",
    "parameters['Wax'] = np.random.randn(nap1,nxt)\n",
    "parameters['Wya'] = np.random.randn(nya,mya)\n",
    "parameters['ba'] = np.random.randn(nap1,mba)\n",
    "parameters['by'] = np.random.randn(nya,mba)\n",
    "\n",
    "## Construcción de varias celdas RNN --\n",
    "aNext, Yt, caches = RNN_Hacia_Adelante(xt, a0, parameters)"
   ]
  },
  {
   "cell_type": "code",
   "execution_count": null,
   "id": "2b2d406b",
   "metadata": {},
   "outputs": [],
   "source": [
    "aNext"
   ]
  },
  {
   "cell_type": "code",
   "execution_count": null,
   "id": "d67eb99f",
   "metadata": {},
   "outputs": [],
   "source": [
    "Yt"
   ]
  },
  {
   "cell_type": "code",
   "execution_count": null,
   "id": "8014b4cd",
   "metadata": {},
   "outputs": [],
   "source": [
    "#caches"
   ]
  },
  {
   "cell_type": "markdown",
   "id": "334c76c6",
   "metadata": {},
   "source": [
    "# Celda RNN hacia atrás"
   ]
  },
  {
   "cell_type": "code",
   "execution_count": null,
   "id": "aa2ca6ba",
   "metadata": {},
   "outputs": [],
   "source": [
    "def RNN_cell_Bck(da_next, cache):\n",
    "    \n",
    "    # Saca lo que hay en el Cache --\n",
    "    (a_next, a_prev, xt, parameters) = cache\n",
    "    \n",
    "    # Retrieve values from parameters\n",
    "    Wax = parameters[\"Wax\"]\n",
    "    Waa = parameters[\"Waa\"]\n",
    "    Wya = parameters[\"Wya\"]\n",
    "    ba = parameters[\"ba\"]\n",
    "    by = parameters[\"by\"]\n",
    "\n",
    "    # Gradiente respecto a Wax --\n",
    "    dxt = np.dot(Wax.T,((da_next)*(1-(np.tanh(np.dot(Wax,xt)+np.dot(Waa,a_prev)+ba))**2)))\n",
    "    dWax = np.dot((da_next)*(1-(np.tanh(np.dot(Wax,xt)+np.dot(Waa,a_prev)+ba))**2),xt.T)\n",
    "\n",
    "    # Gradiente respecto a Waa\n",
    "    da_prev = np.dot(Waa.T,((da_next)*(1-(np.tanh(np.dot(Wax,xt)+np.dot(Waa,a_prev)+ba))**2)))\n",
    "    dWaa = np.dot((da_next)*(1-(np.tanh(np.dot(Wax,xt)+np.dot(Waa,a_prev)+ba))**2),a_prev.T)\n",
    "\n",
    "    # Gradiente respecto a ba\n",
    "    dba = np.sum((da_next)*(1-(np.tanh(np.dot(Wax,xt)+ \\\n",
    "                                       np.dot(Waa,a_prev)+ba))**2),axis=1,keepdims=True)\n",
    "    \n",
    "    # Guardamos todos los gradientes aqui en este diccionario --\n",
    "    gradients = {\"dxt\": dxt, \"da_prev\": da_prev, \"dWax\": dWax, \"dWaa\": dWaa, \"dba\": dba}\n",
    "    \n",
    "    return gradients"
   ]
  },
  {
   "cell_type": "code",
   "execution_count": null,
   "id": "d268abf0",
   "metadata": {},
   "outputs": [],
   "source": [
    "## Vamos a probar 1 sola celda hacia atras! --\n",
    "\n",
    "nxt=1; mxt=1;\n",
    "nap1=1; map1=mxt;\n",
    "nya=2; mya=nap1;\n",
    "mba=1;\n",
    "\n",
    "np.random.seed(1)\n",
    "xt = np.random.randn(nxt,mxt)\n",
    "a_0 = np.random.randn(nap1,mxt)\n",
    "\n",
    "\n",
    "## -- Creación de un diccionario: Explicar!\n",
    "parameters = {}\n",
    "# -----------------------------------------\n",
    "parameters['Waa'] = np.random.randn(nap1,nap1)\n",
    "parameters['Wax'] = np.random.randn(nap1,nxt)\n",
    "parameters['Wya'] = np.random.randn(nya,mya)\n",
    "parameters['ba'] = np.random.randn(nap1,mba)\n",
    "parameters['by'] = np.random.randn(nya,mba)\n",
    "\n",
    "## Construcción de una celda RNN --\n",
    "_, _, cache_Temp = RNN_cell(xt, a_0, parameters)\n",
    "\n",
    "da_next = np.random.randn(nap1,mxt)\n",
    "Gradients = RNN_cell_Bck(da_next, cache_Temp)"
   ]
  },
  {
   "cell_type": "code",
   "execution_count": null,
   "id": "a8f42222",
   "metadata": {},
   "outputs": [],
   "source": [
    "Gradients[\"dxt\"].shape"
   ]
  },
  {
   "cell_type": "markdown",
   "id": "913bcfb4",
   "metadata": {},
   "source": [
    "# Cuentas analíticas"
   ]
  },
  {
   "cell_type": "code",
   "execution_count": 2,
   "id": "5cd9d175",
   "metadata": {},
   "outputs": [],
   "source": [
    "import sympy as sym\n",
    "from sympy import Eq, simplify, Symbol\n",
    "from sympy import Matrix, MatrixSymbol"
   ]
  },
  {
   "cell_type": "code",
   "execution_count": 3,
   "id": "7613a409",
   "metadata": {},
   "outputs": [],
   "source": [
    "def sample_2Classes(n, ratio=0.8):\n",
    "    np.random.seed(42)\n",
    "    y_0 = np.random.randint(2, size=(1, n))\n",
    "    X = y_0 + (np.random.normal(size=n) / 5)\n",
    "    return (X, y_0)\n",
    "\n",
    "## Aqui es importante hablar de la arquitectura de la red neuronal\n",
    "## por ahora vamos a suponer de entrada 7 escalares, formando un vector x --\n",
    "npts = 7\n",
    "### -----\n",
    "xPoints, yPoints = sample_2Classes(npts)"
   ]
  },
  {
   "cell_type": "code",
   "execution_count": null,
   "id": "e402696b",
   "metadata": {},
   "outputs": [],
   "source": [
    "## Aqui es importante hablar de la arquitectura de la red neuronal\n",
    "## la entrada va a pasar solo por una NEURONA \"a\". O sea, (n , m)\n",
    "## n = 1, y m = 7\n",
    "##"
   ]
  },
  {
   "cell_type": "code",
   "execution_count": 4,
   "id": "aa82af16",
   "metadata": {},
   "outputs": [
    {
     "data": {
      "text/latex": [
       "$\\displaystyle x_{0, 0} + x_{1, 0} + x_{2, 0} + x_{3, 0} + x_{4, 0} + x_{5, 0} + x_{6, 0}$"
      ],
      "text/plain": [
       "x[0, 0] + x[1, 0] + x[2, 0] + x[3, 0] + x[4, 0] + x[5, 0] + x[6, 0]"
      ]
     },
     "execution_count": 4,
     "metadata": {},
     "output_type": "execute_result"
    }
   ],
   "source": [
    "nwts = 1\n",
    "xpts = MatrixSymbol('x', npts,nwts)\n",
    "ypts = MatrixSymbol('y', npts,nwts)\n",
    "wpts = MatrixSymbol('w', npts,nwts) #\n",
    "#wpts2 = Matrix(npts,nwts, lambda i,j:sym.var('w_{%d%d}' % (i,j)))\n",
    "#xpts2 = Matrix(npts,nwts, lambda i,j:sym.var('x_{%d%d}' % (i,j)))\n",
    "#ypts2 = Matrix(npts,nwts, lambda i,j:sym.var('y_{%d%d}' % (i,j)))\n",
    "sum(s for s in xpts)"
   ]
  },
  {
   "cell_type": "code",
   "execution_count": 5,
   "id": "19f93c03",
   "metadata": {},
   "outputs": [
    {
     "data": {
      "text/latex": [
       "$\\displaystyle \\left[\\begin{array}{c}w_{0, 0} x_{0, 0} + w_{1, 0} x_{1, 0} + w_{2, 0} x_{2, 0} + w_{3, 0} x_{3, 0} + w_{4, 0} x_{4, 0} + w_{5, 0} x_{5, 0} + w_{6, 0} x_{6, 0}\\end{array}\\right]$"
      ],
      "text/plain": [
       "Matrix([[w[0, 0]*x[0, 0] + w[1, 0]*x[1, 0] + w[2, 0]*x[2, 0] + w[3, 0]*x[3, 0] + w[4, 0]*x[4, 0] + w[5, 0]*x[5, 0] + w[6, 0]*x[6, 0]]])"
      ]
     },
     "execution_count": 5,
     "metadata": {},
     "output_type": "execute_result"
    }
   ],
   "source": [
    "## Un producto punto simbolico --\n",
    "Matrix(xpts.T * wpts)"
   ]
  },
  {
   "cell_type": "code",
   "execution_count": 6,
   "id": "be3c1770",
   "metadata": {},
   "outputs": [
    {
     "data": {
      "text/plain": [
       "sympy.matrices.expressions.matexpr.MatrixElement"
      ]
     },
     "execution_count": 6,
     "metadata": {},
     "output_type": "execute_result"
    }
   ],
   "source": [
    "type(wpts[0])"
   ]
  },
  {
   "cell_type": "code",
   "execution_count": 7,
   "id": "82a483a7",
   "metadata": {},
   "outputs": [],
   "source": [
    "## Tienes que decir que es un simbolo --\n",
    "thetaij,x,xp,yp,w,T = sym.symbols('theta x x_p y_p w T')\n",
    "## Indices para asuntos analiticos --\n",
    "i,p,P = sym.symbols('i p P')\n",
    "# Functions\n",
    "Jcost_i_Sym = sym.symbols('J_i', cls=sym.Function)\n",
    "Jcost_Sym = sym.symbols('J', cls=sym.Function)"
   ]
  },
  {
   "cell_type": "code",
   "execution_count": 8,
   "id": "41b43bed",
   "metadata": {},
   "outputs": [],
   "source": [
    "## Definir una Sigmoid --\n",
    "def Sigm(x):\n",
    "    return 1/(1+sym.exp(-x))"
   ]
  },
  {
   "cell_type": "code",
   "execution_count": 9,
   "id": "53bf505e",
   "metadata": {},
   "outputs": [
    {
     "data": {
      "text/latex": [
       "$\\displaystyle \\left(- y_{p} + \\left(1 + e^{- x^{T} w}\\right)^{-1}\\right)^{2}$"
      ],
      "text/plain": [
       "(-y_p + (1 + exp(-x.T*w))**(-1))**2"
      ]
     },
     "execution_count": 9,
     "metadata": {},
     "output_type": "execute_result"
    }
   ],
   "source": [
    "## Individual Cost function --\n",
    "Jcost_i_Sym1 = (Sigm(xpts.T * wpts)-yp)**2\n",
    "Jcost_i_Sym1\n",
    "#sym.diff(Jcost_i,x)"
   ]
  },
  {
   "cell_type": "code",
   "execution_count": 10,
   "id": "39878fe0",
   "metadata": {},
   "outputs": [
    {
     "data": {
      "text/latex": [
       "$\\displaystyle \\sum_{p=1}^{P} \\left(- y_{p} + \\left(1 + e^{- x^{T} w}\\right)^{-1}\\right)^{2}$"
      ],
      "text/plain": [
       "Sum((-y_p + (1 + exp(-x.T*w))**(-1))**2, (p, 1, P))"
      ]
     },
     "execution_count": 10,
     "metadata": {},
     "output_type": "execute_result"
    }
   ],
   "source": [
    "Jcost_Sym1 = sym.Sum(Jcost_i_Sym1,(p,1,P)) # agregar al final (-1/P)*\n",
    "Jcost_Sym1"
   ]
  },
  {
   "cell_type": "markdown",
   "id": "11459d06",
   "metadata": {},
   "source": [
    "## Función Least Square"
   ]
  },
  {
   "cell_type": "code",
   "execution_count": 11,
   "id": "a16ef50d",
   "metadata": {},
   "outputs": [],
   "source": [
    "# compute linear combination of input point\n",
    "def modelLS(x1,w1,i):\n",
    "    a = Matrix(w1)[0] + Matrix(w1)[1]*Matrix(x1.T)[i]\n",
    "    #a = w[0] + np.dot(x.T,w[1:])\n",
    "    return a"
   ]
  },
  {
   "cell_type": "code",
   "execution_count": 12,
   "id": "03915a49",
   "metadata": {},
   "outputs": [
    {
     "data": {
      "text/latex": [
       "$\\displaystyle w_{0, 0} + w_{1, 0} x_{1, 0}$"
      ],
      "text/plain": [
       "w[0, 0] + w[1, 0]*x[1, 0]"
      ]
     },
     "execution_count": 12,
     "metadata": {},
     "output_type": "execute_result"
    }
   ],
   "source": [
    "modelLS(xpts,wpts,1)"
   ]
  },
  {
   "cell_type": "code",
   "execution_count": 13,
   "id": "3478591c",
   "metadata": {},
   "outputs": [
    {
     "data": {
      "text/latex": [
       "$\\displaystyle w_{1,0}$"
      ],
      "text/plain": [
       "w_{1,0}"
      ]
     },
     "execution_count": 13,
     "metadata": {},
     "output_type": "execute_result"
    }
   ],
   "source": [
    "nwts2=2\n",
    "w2Class2 = ['w_{'+str(i)+',0}' for i in range(npts+1)] # MatrixSymbol('w', 2,1)\n",
    "w2Class = MatrixSymbol('w', nwts2,nwts)\n",
    "#[Symbol(s) for s in w2Class]\n",
    "Symbol(w2Class2[1])"
   ]
  },
  {
   "cell_type": "code",
   "execution_count": 14,
   "id": "f0248255",
   "metadata": {},
   "outputs": [
    {
     "data": {
      "text/latex": [
       "$\\displaystyle \\left(- y_{0, 0} + \\frac{1}{e^{- w_{0, 0} - w_{1, 0} x_{0, 0}} + 1}\\right)^{2} + \\left(- y_{1, 0} + \\frac{1}{e^{- w_{0, 0} - w_{1, 0} x_{1, 0}} + 1}\\right)^{2} + \\left(- y_{2, 0} + \\frac{1}{e^{- w_{0, 0} - w_{1, 0} x_{2, 0}} + 1}\\right)^{2} + \\left(- y_{3, 0} + \\frac{1}{e^{- w_{0, 0} - w_{1, 0} x_{3, 0}} + 1}\\right)^{2} + \\left(- y_{4, 0} + \\frac{1}{e^{- w_{0, 0} - w_{1, 0} x_{4, 0}} + 1}\\right)^{2} + \\left(- y_{5, 0} + \\frac{1}{e^{- w_{0, 0} - w_{1, 0} x_{5, 0}} + 1}\\right)^{2} + \\left(- y_{6, 0} + \\frac{1}{e^{- w_{0, 0} - w_{1, 0} x_{6, 0}} + 1}\\right)^{2}$"
      ],
      "text/plain": [
       "(-y[0, 0] + 1/(exp(-w[0, 0] - w[1, 0]*x[0, 0]) + 1))**2 + (-y[1, 0] + 1/(exp(-w[0, 0] - w[1, 0]*x[1, 0]) + 1))**2 + (-y[2, 0] + 1/(exp(-w[0, 0] - w[1, 0]*x[2, 0]) + 1))**2 + (-y[3, 0] + 1/(exp(-w[0, 0] - w[1, 0]*x[3, 0]) + 1))**2 + (-y[4, 0] + 1/(exp(-w[0, 0] - w[1, 0]*x[4, 0]) + 1))**2 + (-y[5, 0] + 1/(exp(-w[0, 0] - w[1, 0]*x[5, 0]) + 1))**2 + (-y[6, 0] + 1/(exp(-w[0, 0] - w[1, 0]*x[6, 0]) + 1))**2"
      ]
     },
     "execution_count": 14,
     "metadata": {},
     "output_type": "execute_result"
    }
   ],
   "source": [
    "## ---\n",
    "Jcost_Ana1 = sum((Sigm(modelLS(xpts,w2Class,i)) - \\\n",
    "     Matrix(ypts)[i])**2 for i in range(npts))\n",
    "Jcost_Ana1"
   ]
  },
  {
   "cell_type": "code",
   "execution_count": 15,
   "id": "0dc8172c",
   "metadata": {},
   "outputs": [
    {
     "data": {
      "text/latex": [
       "$\\displaystyle \\left(-1 + \\frac{1}{e^{- w_{0, 0} - w_{1, 0} x_{1, 0}} + 1}\\right)^{2} + \\left(-1 + \\frac{1}{e^{- w_{0, 0} - w_{1, 0} x_{5, 0}} + 1}\\right)^{2} + \\frac{1}{\\left(e^{- w_{0, 0} - w_{1, 0} x_{6, 0}} + 1\\right)^{2}} + \\frac{1}{\\left(e^{- w_{0, 0} - w_{1, 0} x_{4, 0}} + 1\\right)^{2}} + \\frac{1}{\\left(e^{- w_{0, 0} - w_{1, 0} x_{3, 0}} + 1\\right)^{2}} + \\frac{1}{\\left(e^{- w_{0, 0} - w_{1, 0} x_{2, 0}} + 1\\right)^{2}} + \\frac{1}{\\left(e^{- w_{0, 0} - w_{1, 0} x_{0, 0}} + 1\\right)^{2}}$"
      ],
      "text/plain": [
       "(-1 + 1/(exp(-w[0, 0] - w[1, 0]*x[1, 0]) + 1))**2 + (-1 + 1/(exp(-w[0, 0] - w[1, 0]*x[5, 0]) + 1))**2 + (exp(-w[0, 0] - w[1, 0]*x[6, 0]) + 1)**(-2) + (exp(-w[0, 0] - w[1, 0]*x[4, 0]) + 1)**(-2) + (exp(-w[0, 0] - w[1, 0]*x[3, 0]) + 1)**(-2) + (exp(-w[0, 0] - w[1, 0]*x[2, 0]) + 1)**(-2) + (exp(-w[0, 0] - w[1, 0]*x[0, 0]) + 1)**(-2)"
      ]
     },
     "execution_count": 15,
     "metadata": {},
     "output_type": "execute_result"
    }
   ],
   "source": [
    "Jcost_Ana2=Jcost_Ana1.subs({Matrix(ypts)[i]: yPoints[:,i][0] for i in range(npts)})\n",
    "Jcost_Ana2"
   ]
  },
  {
   "cell_type": "code",
   "execution_count": 16,
   "id": "5ca79f39",
   "metadata": {},
   "outputs": [
    {
     "data": {
      "text/latex": [
       "$\\displaystyle \\left(-1 + \\frac{1}{e^{- w_{0, 0} - 1.42833168644332 w_{1, 0}} + 1}\\right)^{2} + \\left(-1 + \\frac{1}{e^{- w_{0, 0} - 0.91756230390557 w_{1, 0}} + 1}\\right)^{2} + \\frac{1}{\\left(e^{- w_{0, 0} + 0.239561285310791 w_{1, 0}} + 1\\right)^{2}} + \\frac{1}{\\left(e^{- w_{0, 0} + 0.185765620006787 w_{1, 0}} + 1\\right)^{2}} + \\frac{1}{\\left(e^{- w_{0, 0} + 0.177046069138319 w_{1, 0}} + 1\\right)^{2}} + \\frac{1}{\\left(e^{- w_{0, 0} + 0.0965237592896009 w_{1, 0}} + 1\\right)^{2}} + \\frac{1}{\\left(e^{- w_{0, 0} + 0.0189242003795944 w_{1, 0}} + 1\\right)^{2}}$"
      ],
      "text/plain": [
       "(-1 + 1/(exp(-w[0, 0] - 1.42833168644332*w[1, 0]) + 1))**2 + (-1 + 1/(exp(-w[0, 0] - 0.91756230390557*w[1, 0]) + 1))**2 + (exp(-w[0, 0] + 0.239561285310791*w[1, 0]) + 1)**(-2) + (exp(-w[0, 0] + 0.185765620006787*w[1, 0]) + 1)**(-2) + (exp(-w[0, 0] + 0.177046069138319*w[1, 0]) + 1)**(-2) + (exp(-w[0, 0] + 0.0965237592896009*w[1, 0]) + 1)**(-2) + (exp(-w[0, 0] + 0.0189242003795944*w[1, 0]) + 1)**(-2)"
      ]
     },
     "execution_count": 16,
     "metadata": {},
     "output_type": "execute_result"
    }
   ],
   "source": [
    "Jcost_Ana3 = Jcost_Ana2.subs({Matrix(xpts)[i]: xPoints[:,i][0] for i in range(npts)})\n",
    "Jcost_Ana3"
   ]
  },
  {
   "cell_type": "code",
   "execution_count": 17,
   "id": "cadda9bb",
   "metadata": {},
   "outputs": [
    {
     "data": {
      "text/latex": [
       "$\\displaystyle 0.251003518307944$"
      ],
      "text/plain": [
       "0.251003518307944"
      ]
     },
     "execution_count": 17,
     "metadata": {},
     "output_type": "execute_result"
    }
   ],
   "source": [
    "## Vamos a ver un valor numerico con w0 = 0.1 y w1 = 0.1\n",
    "Jcost_Ana3.subs(Matrix(w2Class)[0],0.1).subs(Matrix(w2Class)[1],0.1)/npts"
   ]
  },
  {
   "cell_type": "markdown",
   "id": "2c18c67d",
   "metadata": {},
   "source": [
    "## Función Cross- Entropy"
   ]
  },
  {
   "cell_type": "code",
   "execution_count": 18,
   "id": "dcd4cf5b",
   "metadata": {},
   "outputs": [
    {
     "data": {
      "text/latex": [
       "$\\displaystyle - y_{p} \\log{\\left(\\left(1 + e^{- x^{T} w}\\right)^{-1} \\right)} - \\left(1 - y_{p}\\right) \\log{\\left(1 - \\left(1 + e^{- x^{T} w}\\right)^{-1} \\right)}$"
      ],
      "text/plain": [
       "-y_p*log((1 + exp(-x.T*w))**(-1)) - (1 - y_p)*log(1 - (1 + exp(-x.T*w))**(-1))"
      ]
     },
     "execution_count": 18,
     "metadata": {},
     "output_type": "execute_result"
    }
   ],
   "source": [
    "## Individual Cost function --\n",
    "Jcost_i_Sym2 = (-yp*sym.log(Sigm(xpts.T * wpts))-(1-yp)*(sym.log(1-Sigm(xpts.T * wpts))))\n",
    "Jcost_i_Sym2\n",
    "#sym.diff(Jcost_i,x)"
   ]
  },
  {
   "cell_type": "code",
   "execution_count": 19,
   "id": "bbfea349",
   "metadata": {},
   "outputs": [
    {
     "data": {
      "text/latex": [
       "$\\displaystyle \\sum_{p=1}^{P} \\left(- y_{p} \\log{\\left(\\left(1 + e^{- x^{T} w}\\right)^{-1} \\right)} - \\left(1 - y_{p}\\right) \\log{\\left(1 - \\left(1 + e^{- x^{T} w}\\right)^{-1} \\right)}\\right)$"
      ],
      "text/plain": [
       "Sum(-y_p*log((1 + exp(-x.T*w))**(-1)) - (1 - y_p)*log(1 - (1 + exp(-x.T*w))**(-1)), (p, 1, P))"
      ]
     },
     "execution_count": 19,
     "metadata": {},
     "output_type": "execute_result"
    }
   ],
   "source": [
    "Jcost_Sym2 = sym.Sum(Jcost_i_Sym2,(p,1,P)) # agregar al final (-1/P)*\n",
    "Jcost_Sym2"
   ]
  },
  {
   "cell_type": "code",
   "execution_count": 20,
   "id": "04a8df39",
   "metadata": {},
   "outputs": [
    {
     "data": {
      "text/latex": [
       "$\\displaystyle - \\left(1 - y_{0, 0}\\right) \\log{\\left(1 - \\frac{1}{e^{- w_{0, 0} - w_{1, 0} x_{0, 0}} + 1} \\right)} - \\left(1 - y_{1, 0}\\right) \\log{\\left(1 - \\frac{1}{e^{- w_{0, 0} - w_{1, 0} x_{1, 0}} + 1} \\right)} - \\left(1 - y_{2, 0}\\right) \\log{\\left(1 - \\frac{1}{e^{- w_{0, 0} - w_{1, 0} x_{2, 0}} + 1} \\right)} - \\left(1 - y_{3, 0}\\right) \\log{\\left(1 - \\frac{1}{e^{- w_{0, 0} - w_{1, 0} x_{3, 0}} + 1} \\right)} - \\left(1 - y_{4, 0}\\right) \\log{\\left(1 - \\frac{1}{e^{- w_{0, 0} - w_{1, 0} x_{4, 0}} + 1} \\right)} - \\left(1 - y_{5, 0}\\right) \\log{\\left(1 - \\frac{1}{e^{- w_{0, 0} - w_{1, 0} x_{5, 0}} + 1} \\right)} - \\left(1 - y_{6, 0}\\right) \\log{\\left(1 - \\frac{1}{e^{- w_{0, 0} - w_{1, 0} x_{6, 0}} + 1} \\right)} + \\log{\\left(\\frac{1}{e^{- w_{0, 0} - w_{1, 0} x_{0, 0}} + 1} \\right)} y_{0, 0} + \\log{\\left(\\frac{1}{e^{- w_{0, 0} - w_{1, 0} x_{1, 0}} + 1} \\right)} y_{1, 0} + \\log{\\left(\\frac{1}{e^{- w_{0, 0} - w_{1, 0} x_{2, 0}} + 1} \\right)} y_{2, 0} + \\log{\\left(\\frac{1}{e^{- w_{0, 0} - w_{1, 0} x_{3, 0}} + 1} \\right)} y_{3, 0} + \\log{\\left(\\frac{1}{e^{- w_{0, 0} - w_{1, 0} x_{4, 0}} + 1} \\right)} y_{4, 0} + \\log{\\left(\\frac{1}{e^{- w_{0, 0} - w_{1, 0} x_{5, 0}} + 1} \\right)} y_{5, 0} + \\log{\\left(\\frac{1}{e^{- w_{0, 0} - w_{1, 0} x_{6, 0}} + 1} \\right)} y_{6, 0}$"
      ],
      "text/plain": [
       "-(1 - y[0, 0])*log(1 - 1/(exp(-w[0, 0] - w[1, 0]*x[0, 0]) + 1)) - (1 - y[1, 0])*log(1 - 1/(exp(-w[0, 0] - w[1, 0]*x[1, 0]) + 1)) - (1 - y[2, 0])*log(1 - 1/(exp(-w[0, 0] - w[1, 0]*x[2, 0]) + 1)) - (1 - y[3, 0])*log(1 - 1/(exp(-w[0, 0] - w[1, 0]*x[3, 0]) + 1)) - (1 - y[4, 0])*log(1 - 1/(exp(-w[0, 0] - w[1, 0]*x[4, 0]) + 1)) - (1 - y[5, 0])*log(1 - 1/(exp(-w[0, 0] - w[1, 0]*x[5, 0]) + 1)) - (1 - y[6, 0])*log(1 - 1/(exp(-w[0, 0] - w[1, 0]*x[6, 0]) + 1)) + log(1/(exp(-w[0, 0] - w[1, 0]*x[0, 0]) + 1))*y[0, 0] + log(1/(exp(-w[0, 0] - w[1, 0]*x[1, 0]) + 1))*y[1, 0] + log(1/(exp(-w[0, 0] - w[1, 0]*x[2, 0]) + 1))*y[2, 0] + log(1/(exp(-w[0, 0] - w[1, 0]*x[3, 0]) + 1))*y[3, 0] + log(1/(exp(-w[0, 0] - w[1, 0]*x[4, 0]) + 1))*y[4, 0] + log(1/(exp(-w[0, 0] - w[1, 0]*x[5, 0]) + 1))*y[5, 0] + log(1/(exp(-w[0, 0] - w[1, 0]*x[6, 0]) + 1))*y[6, 0]"
      ]
     },
     "execution_count": 20,
     "metadata": {},
     "output_type": "execute_result"
    }
   ],
   "source": [
    "## ---\n",
    "Jcost_Ana1_2 = sum(Matrix(ypts)[i]*(sym.log(Sigm(modelLS(xpts,w2Class,i)))) - \\\n",
    "     (1-Matrix(ypts)[i])*(sym.log(1-Sigm(modelLS(xpts,w2Class,i)))) for i in range(npts))\n",
    "Jcost_Ana1_2"
   ]
  },
  {
   "cell_type": "code",
   "execution_count": 21,
   "id": "f825508c",
   "metadata": {},
   "outputs": [
    {
     "data": {
      "text/latex": [
       "$\\displaystyle - \\log{\\left(1 - \\frac{1}{e^{- w_{0, 0} - w_{1, 0} x_{0, 0}} + 1} \\right)} - \\log{\\left(1 - \\frac{1}{e^{- w_{0, 0} - w_{1, 0} x_{2, 0}} + 1} \\right)} - \\log{\\left(1 - \\frac{1}{e^{- w_{0, 0} - w_{1, 0} x_{3, 0}} + 1} \\right)} - \\log{\\left(1 - \\frac{1}{e^{- w_{0, 0} - w_{1, 0} x_{4, 0}} + 1} \\right)} - \\log{\\left(1 - \\frac{1}{e^{- w_{0, 0} - w_{1, 0} x_{6, 0}} + 1} \\right)} + \\log{\\left(\\frac{1}{e^{- w_{0, 0} - w_{1, 0} x_{1, 0}} + 1} \\right)} + \\log{\\left(\\frac{1}{e^{- w_{0, 0} - w_{1, 0} x_{5, 0}} + 1} \\right)}$"
      ],
      "text/plain": [
       "-log(1 - 1/(exp(-w[0, 0] - w[1, 0]*x[0, 0]) + 1)) - log(1 - 1/(exp(-w[0, 0] - w[1, 0]*x[2, 0]) + 1)) - log(1 - 1/(exp(-w[0, 0] - w[1, 0]*x[3, 0]) + 1)) - log(1 - 1/(exp(-w[0, 0] - w[1, 0]*x[4, 0]) + 1)) - log(1 - 1/(exp(-w[0, 0] - w[1, 0]*x[6, 0]) + 1)) + log(1/(exp(-w[0, 0] - w[1, 0]*x[1, 0]) + 1)) + log(1/(exp(-w[0, 0] - w[1, 0]*x[5, 0]) + 1))"
      ]
     },
     "execution_count": 21,
     "metadata": {},
     "output_type": "execute_result"
    }
   ],
   "source": [
    "Jcost_Ana2_2=Jcost_Ana1_2.subs({Matrix(ypts)[i]: yPoints[:,i][0] for i in range(npts)})\n",
    "Jcost_Ana2_2"
   ]
  },
  {
   "cell_type": "code",
   "execution_count": 22,
   "id": "34f74de5",
   "metadata": {},
   "outputs": [
    {
     "data": {
      "text/latex": [
       "$\\displaystyle - \\log{\\left(1 - \\frac{1}{e^{- w_{0, 0} + 0.0189242003795944 w_{1, 0}} + 1} \\right)} - \\log{\\left(1 - \\frac{1}{e^{- w_{0, 0} + 0.0965237592896009 w_{1, 0}} + 1} \\right)} - \\log{\\left(1 - \\frac{1}{e^{- w_{0, 0} + 0.177046069138319 w_{1, 0}} + 1} \\right)} - \\log{\\left(1 - \\frac{1}{e^{- w_{0, 0} + 0.185765620006787 w_{1, 0}} + 1} \\right)} - \\log{\\left(1 - \\frac{1}{e^{- w_{0, 0} + 0.239561285310791 w_{1, 0}} + 1} \\right)} + \\log{\\left(\\frac{1}{e^{- w_{0, 0} - 1.42833168644332 w_{1, 0}} + 1} \\right)} + \\log{\\left(\\frac{1}{e^{- w_{0, 0} - 0.91756230390557 w_{1, 0}} + 1} \\right)}$"
      ],
      "text/plain": [
       "-log(1 - 1/(exp(-w[0, 0] + 0.0189242003795944*w[1, 0]) + 1)) - log(1 - 1/(exp(-w[0, 0] + 0.0965237592896009*w[1, 0]) + 1)) - log(1 - 1/(exp(-w[0, 0] + 0.177046069138319*w[1, 0]) + 1)) - log(1 - 1/(exp(-w[0, 0] + 0.185765620006787*w[1, 0]) + 1)) - log(1 - 1/(exp(-w[0, 0] + 0.239561285310791*w[1, 0]) + 1)) + log(1/(exp(-w[0, 0] - 1.42833168644332*w[1, 0]) + 1)) + log(1/(exp(-w[0, 0] - 0.91756230390557*w[1, 0]) + 1))"
      ]
     },
     "execution_count": 22,
     "metadata": {},
     "output_type": "execute_result"
    }
   ],
   "source": [
    "Jcost_Ana3_2 = Jcost_Ana2_2.subs({Matrix(xpts)[i]: xPoints[:,i][0] for i in range(npts)})\n",
    "Jcost_Ana3_2"
   ]
  },
  {
   "cell_type": "code",
   "execution_count": 23,
   "id": "15d31750",
   "metadata": {},
   "outputs": [
    {
     "data": {
      "text/latex": [
       "$\\displaystyle 0.357646154901748$"
      ],
      "text/plain": [
       "0.357646154901748"
      ]
     },
     "execution_count": 23,
     "metadata": {},
     "output_type": "execute_result"
    }
   ],
   "source": [
    "## Vamos a ver un valor numerico con w0 = 0.1 y w1 = 0.1\n",
    "Jcost_Ana3_2.subs(Matrix(w2Class)[0],0.1).subs(Matrix(w2Class)[1],0.1)/npts"
   ]
  },
  {
   "cell_type": "code",
   "execution_count": 25,
   "id": "571f1fb5",
   "metadata": {},
   "outputs": [
    {
     "data": {
      "text/latex": [
       "$\\displaystyle \\frac{e^{- w_{0, 0} - w_{1, 0} x_{6, 0}} y_{6, 0}}{e^{- w_{0, 0} - w_{1, 0} x_{6, 0}} + 1} + \\frac{e^{- w_{0, 0} - w_{1, 0} x_{5, 0}} y_{5, 0}}{e^{- w_{0, 0} - w_{1, 0} x_{5, 0}} + 1} + \\frac{e^{- w_{0, 0} - w_{1, 0} x_{4, 0}} y_{4, 0}}{e^{- w_{0, 0} - w_{1, 0} x_{4, 0}} + 1} + \\frac{e^{- w_{0, 0} - w_{1, 0} x_{3, 0}} y_{3, 0}}{e^{- w_{0, 0} - w_{1, 0} x_{3, 0}} + 1} + \\frac{e^{- w_{0, 0} - w_{1, 0} x_{2, 0}} y_{2, 0}}{e^{- w_{0, 0} - w_{1, 0} x_{2, 0}} + 1} + \\frac{e^{- w_{0, 0} - w_{1, 0} x_{1, 0}} y_{1, 0}}{e^{- w_{0, 0} - w_{1, 0} x_{1, 0}} + 1} + \\frac{e^{- w_{0, 0} - w_{1, 0} x_{0, 0}} y_{0, 0}}{e^{- w_{0, 0} - w_{1, 0} x_{0, 0}} + 1} - \\frac{\\left(y_{6, 0} - 1\\right) e^{- w_{0, 0} - w_{1, 0} x_{6, 0}}}{\\left(1 - \\frac{1}{e^{- w_{0, 0} - w_{1, 0} x_{6, 0}} + 1}\\right) \\left(e^{- w_{0, 0} - w_{1, 0} x_{6, 0}} + 1\\right)^{2}} - \\frac{\\left(y_{5, 0} - 1\\right) e^{- w_{0, 0} - w_{1, 0} x_{5, 0}}}{\\left(1 - \\frac{1}{e^{- w_{0, 0} - w_{1, 0} x_{5, 0}} + 1}\\right) \\left(e^{- w_{0, 0} - w_{1, 0} x_{5, 0}} + 1\\right)^{2}} - \\frac{\\left(y_{4, 0} - 1\\right) e^{- w_{0, 0} - w_{1, 0} x_{4, 0}}}{\\left(1 - \\frac{1}{e^{- w_{0, 0} - w_{1, 0} x_{4, 0}} + 1}\\right) \\left(e^{- w_{0, 0} - w_{1, 0} x_{4, 0}} + 1\\right)^{2}} - \\frac{\\left(y_{3, 0} - 1\\right) e^{- w_{0, 0} - w_{1, 0} x_{3, 0}}}{\\left(1 - \\frac{1}{e^{- w_{0, 0} - w_{1, 0} x_{3, 0}} + 1}\\right) \\left(e^{- w_{0, 0} - w_{1, 0} x_{3, 0}} + 1\\right)^{2}} - \\frac{\\left(y_{2, 0} - 1\\right) e^{- w_{0, 0} - w_{1, 0} x_{2, 0}}}{\\left(1 - \\frac{1}{e^{- w_{0, 0} - w_{1, 0} x_{2, 0}} + 1}\\right) \\left(e^{- w_{0, 0} - w_{1, 0} x_{2, 0}} + 1\\right)^{2}} - \\frac{\\left(y_{1, 0} - 1\\right) e^{- w_{0, 0} - w_{1, 0} x_{1, 0}}}{\\left(1 - \\frac{1}{e^{- w_{0, 0} - w_{1, 0} x_{1, 0}} + 1}\\right) \\left(e^{- w_{0, 0} - w_{1, 0} x_{1, 0}} + 1\\right)^{2}} - \\frac{\\left(y_{0, 0} - 1\\right) e^{- w_{0, 0} - w_{1, 0} x_{0, 0}}}{\\left(1 - \\frac{1}{e^{- w_{0, 0} - w_{1, 0} x_{0, 0}} + 1}\\right) \\left(e^{- w_{0, 0} - w_{1, 0} x_{0, 0}} + 1\\right)^{2}}$"
      ],
      "text/plain": [
       "exp(-w[0, 0] - w[1, 0]*x[6, 0])*y[6, 0]/(exp(-w[0, 0] - w[1, 0]*x[6, 0]) + 1) + exp(-w[0, 0] - w[1, 0]*x[5, 0])*y[5, 0]/(exp(-w[0, 0] - w[1, 0]*x[5, 0]) + 1) + exp(-w[0, 0] - w[1, 0]*x[4, 0])*y[4, 0]/(exp(-w[0, 0] - w[1, 0]*x[4, 0]) + 1) + exp(-w[0, 0] - w[1, 0]*x[3, 0])*y[3, 0]/(exp(-w[0, 0] - w[1, 0]*x[3, 0]) + 1) + exp(-w[0, 0] - w[1, 0]*x[2, 0])*y[2, 0]/(exp(-w[0, 0] - w[1, 0]*x[2, 0]) + 1) + exp(-w[0, 0] - w[1, 0]*x[1, 0])*y[1, 0]/(exp(-w[0, 0] - w[1, 0]*x[1, 0]) + 1) + exp(-w[0, 0] - w[1, 0]*x[0, 0])*y[0, 0]/(exp(-w[0, 0] - w[1, 0]*x[0, 0]) + 1) - (y[6, 0] - 1)*exp(-w[0, 0] - w[1, 0]*x[6, 0])/((1 - 1/(exp(-w[0, 0] - w[1, 0]*x[6, 0]) + 1))*(exp(-w[0, 0] - w[1, 0]*x[6, 0]) + 1)**2) - (y[5, 0] - 1)*exp(-w[0, 0] - w[1, 0]*x[5, 0])/((1 - 1/(exp(-w[0, 0] - w[1, 0]*x[5, 0]) + 1))*(exp(-w[0, 0] - w[1, 0]*x[5, 0]) + 1)**2) - (y[4, 0] - 1)*exp(-w[0, 0] - w[1, 0]*x[4, 0])/((1 - 1/(exp(-w[0, 0] - w[1, 0]*x[4, 0]) + 1))*(exp(-w[0, 0] - w[1, 0]*x[4, 0]) + 1)**2) - (y[3, 0] - 1)*exp(-w[0, 0] - w[1, 0]*x[3, 0])/((1 - 1/(exp(-w[0, 0] - w[1, 0]*x[3, 0]) + 1))*(exp(-w[0, 0] - w[1, 0]*x[3, 0]) + 1)**2) - (y[2, 0] - 1)*exp(-w[0, 0] - w[1, 0]*x[2, 0])/((1 - 1/(exp(-w[0, 0] - w[1, 0]*x[2, 0]) + 1))*(exp(-w[0, 0] - w[1, 0]*x[2, 0]) + 1)**2) - (y[1, 0] - 1)*exp(-w[0, 0] - w[1, 0]*x[1, 0])/((1 - 1/(exp(-w[0, 0] - w[1, 0]*x[1, 0]) + 1))*(exp(-w[0, 0] - w[1, 0]*x[1, 0]) + 1)**2) - (y[0, 0] - 1)*exp(-w[0, 0] - w[1, 0]*x[0, 0])/((1 - 1/(exp(-w[0, 0] - w[1, 0]*x[0, 0]) + 1))*(exp(-w[0, 0] - w[1, 0]*x[0, 0]) + 1)**2)"
      ]
     },
     "execution_count": 25,
     "metadata": {},
     "output_type": "execute_result"
    }
   ],
   "source": [
    "sym.diff(Jcost_Ana1_2,Matrix(w2Class)[0])"
   ]
  },
  {
   "cell_type": "markdown",
   "id": "fb46b92d",
   "metadata": {},
   "source": [
    "# Numpy de nuevo"
   ]
  },
  {
   "cell_type": "code",
   "execution_count": 32,
   "id": "7174d1b6",
   "metadata": {},
   "outputs": [],
   "source": [
    "def sample_2Classes(n, ratio=0.8):\n",
    "    np.random.seed(42)\n",
    "    y0 = np.random.randint(2, size=(1, n))\n",
    "    X0 = y0 + (np.random.normal(size=n) / 5)\n",
    "    return (X0, y0)\n",
    "\n",
    "npts = 7\n",
    "### -----\n",
    "xPoints, yPoints = sample_2Classes(npts)"
   ]
  },
  {
   "cell_type": "code",
   "execution_count": 33,
   "id": "bcea2bf8",
   "metadata": {},
   "outputs": [
    {
     "name": "stdout",
     "output_type": "stream",
     "text": [
      "(1, 7)\n",
      "(1, 7)\n"
     ]
    }
   ],
   "source": [
    "print(np.shape(xPoints))\n",
    "print(np.shape(yPoints))"
   ]
  },
  {
   "cell_type": "code",
   "execution_count": 34,
   "id": "234c3797",
   "metadata": {},
   "outputs": [
    {
     "data": {
      "image/png": "[encoded data removed]",
      "text/plain": [
       "<Figure size 432x288 with 1 Axes>"
      ]
     },
     "metadata": {},
     "output_type": "display_data"
    }
   ],
   "source": [
    "## --- Estilo --\n",
    "putStyle(14,2,False,True)\n",
    "## -------------\n",
    "\n",
    "plt.plot(xPoints,yPoints, color = 'r',  marker = \"o\", markersize=10)\n",
    "plt.axhline(y=0, color='g',zorder = 0,linewidth = 2)\n",
    "plt.axvline(x=0, color='g',zorder = 0,linewidth = 2)\n",
    "plt.show()"
   ]
  },
  {
   "cell_type": "code",
   "execution_count": 35,
   "id": "2adcac5d",
   "metadata": {},
   "outputs": [],
   "source": [
    "# Sigmoid\n",
    "def sigmoidLS1(t):\n",
    "    return 1/(1 + np.exp(-t))\n",
    "\n",
    "# Una función costo NO-convexa! (que tiene minimos locales) \n",
    "def sigmoid_least_squaresLS1(w1):\n",
    "    cost = 0\n",
    "    for p1 in range(yPoints.size):\n",
    "        x_p = xPoints[:,p1]\n",
    "        y_p = yPoints[:,p1]\n",
    "        ## --- Esto es para N=1 (w0 + w1*xp)\n",
    "        ## Que significa que xp son escalares.\n",
    "        ## Tambien pueden ser vectores, en cuyo caso N>1\n",
    "        ## y la formula general sería np.dot(xp.T, w)\n",
    "        cost += (sigmoidLS1(w1[0] + w1[1]*x_p) - y_p)**2\n",
    "    return cost/yPoints.size  "
   ]
  },
  {
   "cell_type": "code",
   "execution_count": 36,
   "id": "c5f711fd",
   "metadata": {},
   "outputs": [
    {
     "data": {
      "text/plain": [
       "array([0.25100352])"
      ]
     },
     "execution_count": 36,
     "metadata": {},
     "output_type": "execute_result"
    }
   ],
   "source": [
    "sigmoid_least_squaresLS1([0.1,0.1]) # Perfecto! comparado con el analitico ..."
   ]
  },
  {
   "cell_type": "code",
   "execution_count": 37,
   "id": "feb5b04b",
   "metadata": {
    "code_folding": []
   },
   "outputs": [
    {
     "data": {
      "image/png": "[encoded data removed]",
      "text/plain": [
       "<Figure size 800x800 with 1 Axes>"
      ]
     },
     "metadata": {},
     "output_type": "display_data"
    }
   ],
   "source": [
    "## --- Estilo --\n",
    "import matplotlib\n",
    "matplotlib.rcParams.update(matplotlib.rcParamsDefault)\n",
    "## -------------\n",
    "\n",
    "# construct figure\n",
    "fig, axs = plt.subplots(1, 1, figsize=(8,8))\n",
    "\n",
    "# create subplot with 2 panels\n",
    "gs = gridspec.GridSpec(1, 1, width_ratios=[1]) \n",
    "ax1 = plt.subplot(gs[0],projection='3d');\n",
    "\n",
    "# make contour plot in each panel\n",
    "g = sigmoid_least_squaresLS1\n",
    "surface_plot(g, ax1,  10,  [20,100])\n",
    "plt.show()"
   ]
  },
  {
   "cell_type": "markdown",
   "id": "426bc229",
   "metadata": {},
   "source": [
    "# Vamos a encontrar los parametros ... "
   ]
  },
  {
   "cell_type": "code",
   "execution_count": 38,
   "id": "efa065ab",
   "metadata": {},
   "outputs": [],
   "source": [
    "# This code cell will not be shown in the HTML version of this notebook\n",
    "## --- Estilo --\n",
    "putStyle(14,2,True,True)\n",
    "## -------------\n",
    "\n",
    "opt = MyOptimizersLS1()\n",
    "\n",
    "# run normalized gradient descent\n",
    "wNum = np.asarray([20.0,-20.0])[:,np.newaxis]\n",
    "w_hist = opt.gradient_descent(g = sigmoid_least_squaresLS1,w = wNum,version = 'normalized',\\\n",
    "                              max_its = 900, alpha = 1)"
   ]
  },
  {
   "cell_type": "code",
   "execution_count": 39,
   "id": "5eb42fbe",
   "metadata": {
    "code_folding": [
     0
    ]
   },
   "outputs": [],
   "source": [
    "# -- Crédito: \n",
    "# https://github.com/jermwatt/machine_learning_refined\n",
    "class ShowLS1:\n",
    "    '''\n",
    "    Visualize logistic regression applied to a 2-class dataset with N = 2\n",
    "    '''\n",
    "    #### initialize ####\n",
    "    def __init__(self,data,g):\n",
    "        # grab input\n",
    "        data = data.T\n",
    "        self.data = data\n",
    "        self.x = data[:,:-1]\n",
    "        self.y = data[:,-1]\n",
    "        self.g = g\n",
    "        \n",
    "        # colors for viewing classification data 'from above'\n",
    "        self.colors = ['cornflowerblue','salmon','lime','bisque','mediumaquamarine','b','m','g']\n",
    "    \n",
    "    ### logistic functionality ###\n",
    "    def identity(self,t):\n",
    "        val = 0\n",
    "        if t > 0.5:\n",
    "            val = 1\n",
    "        return val\n",
    "    \n",
    "    # define sigmoid function\n",
    "    def sigmoid(self,t):\n",
    "        return 1/(1 + np.exp(-t))\n",
    "    \n",
    "    ######## 2d functions ########\n",
    "    # animate gradient descent or newton's method\n",
    "    def animate_run(self,savepath,w_hist,**kwargs):     \n",
    "        self.w_hist = w_hist\n",
    "        \n",
    "        ##### setup figure to plot #####\n",
    "        # initialize figure\n",
    "        fig = plt.figure(figsize = (8,3))\n",
    "        artist = fig\n",
    "        \n",
    "        # create subplot with 3 panels, plot input function in center plot\n",
    "        gs = gridspec.GridSpec(1, 2, width_ratios=[1,1]) \n",
    "        ax1 = plt.subplot(gs[0]); \n",
    "        ax2 = plt.subplot(gs[1]);\n",
    "\n",
    "        # produce color scheme\n",
    "        s = np.linspace(0,1,len(self.w_hist[:round(len(w_hist)/2)]))\n",
    "        s.shape = (len(s),1)\n",
    "        t = np.ones(len(self.w_hist[round(len(w_hist)/2):]))\n",
    "        t.shape = (len(t),1)\n",
    "        s = np.vstack((s,t))\n",
    "        self.colorspec = []\n",
    "        self.colorspec = np.concatenate((s,np.flipud(s)),1)\n",
    "        self.colorspec = np.concatenate((self.colorspec,np.zeros((len(s),1))),1)\n",
    "        \n",
    "        # seed left panel plotting range\n",
    "        xmin = copy.deepcopy(min(self.x))\n",
    "        xmax = copy.deepcopy(max(self.x))\n",
    "        xgap = (xmax - xmin)*0.1\n",
    "        xmin-=xgap\n",
    "        xmax+=xgap\n",
    "        x_fit = np.linspace(xmin,xmax,300)\n",
    "        \n",
    "        # seed right panel contour plot\n",
    "        viewmax = 3\n",
    "        if 'viewmax' in kwargs:\n",
    "            viewmax = kwargs['viewmax']\n",
    "        view = [20,100]\n",
    "        if 'view' in kwargs:\n",
    "            view = kwargs['view']\n",
    "        num_contours = 15\n",
    "        if 'num_contours' in kwargs:\n",
    "            num_contours = kwargs['num_contours']        \n",
    "        self.contour_plot(ax2,viewmax,num_contours)\n",
    "        \n",
    "        # start animation\n",
    "        num_frames = len(self.w_hist)\n",
    "        print ('starting animation rendering...')\n",
    "        def animate(k):\n",
    "            # clear panels\n",
    "            ax1.cla()\n",
    "            \n",
    "            # current color\n",
    "            color = self.colorspec[k]\n",
    "\n",
    "            # print rendering update\n",
    "            if np.mod(k+1,25) == 0:\n",
    "                print ('rendering animation frame ' + str(k+1) + ' of ' + str(num_frames))\n",
    "            if k == num_frames - 1:\n",
    "                print ('animation rendering complete!')\n",
    "                time.sleep(1.5)\n",
    "                clear_output()\n",
    "            \n",
    "            ###### make left panel - plot data and fit ######\n",
    "            # initialize fit\n",
    "            w = self.w_hist[k]\n",
    "            y_fit = self.sigmoid(w[0] + x_fit*w[1])\n",
    "            \n",
    "            # scatter data\n",
    "            self.scatter_pts(ax1)\n",
    "            \n",
    "            # plot fit to data\n",
    "            ax1.plot(x_fit,y_fit,color = color,linewidth = 2) \n",
    "\n",
    "            ###### make right panel - plot contour and steps ######\n",
    "            if k == 0:\n",
    "                ax2.scatter(w[0],w[1],s = 90,facecolor = color,edgecolor = 'k',linewidth = 0.5, zorder = 3)\n",
    "            if k > 0 and k < num_frames:\n",
    "                self.plot_pts_on_contour(ax2,k,color)\n",
    "            if k == num_frames -1:\n",
    "                ax2.scatter(w[0],w[1],s = 90,facecolor = color,edgecolor = 'k',linewidth = 0.5, zorder = 3)\n",
    "               \n",
    "            return artist,\n",
    "\n",
    "        anim = animation.FuncAnimation(fig, animate ,frames=num_frames, interval=num_frames, blit=True)\n",
    "        \n",
    "        # produce animation and save\n",
    "        fps = 50\n",
    "        if 'fps' in kwargs:\n",
    "            fps = kwargs['fps']\n",
    "        anim.save(savepath, fps=fps, extra_args=['-vcodec', 'libx264'])\n",
    "        clear_output()\n",
    "            \n",
    "    def sigmoid(self,t):\n",
    "        return 1/(1 + np.exp(-t))\n",
    "    \n",
    "    # produce static image of gradient descent or newton's method run\n",
    "    def static_fig(self,w_hist,**kwargs):\n",
    "        self.w_hist = w_hist\n",
    "        ind = -1\n",
    "        show_path = True\n",
    "        if np.size(w_hist) == 0:\n",
    "            show_path = False\n",
    "        w = 0\n",
    "        if show_path:\n",
    "            w = w_hist[ind]\n",
    "        \n",
    "        ##### setup figure to plot #####\n",
    "        # initialize figure\n",
    "        fig = plt.figure(figsize = (12,5))\n",
    "        artist = fig\n",
    "        \n",
    "        # create subplot with 3 panels, plot input function in center plot\n",
    "        gs = gridspec.GridSpec(1, 3, width_ratios=[1,1,1]) \n",
    "        ax1 = plt.subplot(gs[0]); \n",
    "        ax2 = plt.subplot(gs[2]);\n",
    "\n",
    "        # produce color scheme\n",
    "        s = np.linspace(0,1,len(self.w_hist[:round(len(self.w_hist)/2)]))\n",
    "        s.shape = (len(s),1)\n",
    "        t = np.ones(len(self.w_hist[round(len(self.w_hist)/2):]))\n",
    "        t.shape = (len(t),1)\n",
    "        s = np.vstack((s,t))\n",
    "        self.colorspec = []\n",
    "        self.colorspec = np.concatenate((s,np.flipud(s)),1)\n",
    "        self.colorspec = np.concatenate((self.colorspec,np.zeros((len(s),1))),1)\n",
    "        \n",
    "        # seed left panel plotting range\n",
    "        xmin = copy.deepcopy(min(self.x))\n",
    "        xmax = copy.deepcopy(max(self.x))\n",
    "        xgap = (xmax - xmin)*0.1\n",
    "        xmin-=xgap\n",
    "        xmax+=xgap\n",
    "        x_fit = np.linspace(xmin,xmax,300)\n",
    "        \n",
    "        # seed right panel contour plot\n",
    "        viewmax = 3\n",
    "        if 'viewmax' in kwargs:\n",
    "            viewmax = kwargs['viewmax']\n",
    "        view = [20,100]\n",
    "        if 'view' in kwargs:\n",
    "            view = kwargs['view']\n",
    "        num_contours = 15\n",
    "        if 'num_contours' in kwargs:\n",
    "            num_contours = kwargs['num_contours']   \n",
    "            \n",
    "        ### contour plot in right panel ###\n",
    "        self.contour_plot(ax2,viewmax,num_contours)\n",
    "        \n",
    "        ### make left panel - plot data and fit ###\n",
    "        # scatter data\n",
    "        self.scatter_pts(ax1)\n",
    "        \n",
    "        if show_path:\n",
    "            # initialize fit\n",
    "            y_fit = self.sigmoid(w[0] + x_fit*w[1])\n",
    "\n",
    "            # plot fit to data\n",
    "            color = self.colorspec[-1]\n",
    "            ax1.plot(x_fit,y_fit,color = color,linewidth = 2) \n",
    "\n",
    "            # add points to right panel contour plot\n",
    "            num_frames = len(self.w_hist)\n",
    "            for k in range(num_frames):\n",
    "                # current color\n",
    "                color = self.colorspec[k]\n",
    "\n",
    "                # current weights\n",
    "                w = self.w_hist[k]\n",
    "\n",
    "                ###### make right panel - plot contour and steps ######\n",
    "                if k == 0:\n",
    "                    ax2.scatter(w[0],w[1],s = 90,facecolor = color,edgecolor = 'k',\\\n",
    "                                linewidth = 0.5, zorder = 3)\n",
    "                if k > 0 and k < num_frames:\n",
    "                    self.plot_pts_on_contour(ax2,k,color)\n",
    "                if k == num_frames -1:\n",
    "                    ax2.scatter(w[0],w[1],s = 90,facecolor = color,edgecolor = 'k',\\\n",
    "                                linewidth = 0.5, zorder = 3)\n",
    "        \n",
    "        plt.show()\n",
    "            \n",
    "    \n",
    "    ###### plot plotting functions ######\n",
    "    def plot_data(self,**kwargs):\n",
    "        # construct figure\n",
    "        fig, axs = plt.subplots(1, 3, figsize=(9,3))\n",
    "\n",
    "        if np.shape(self.x)[1] == 1:\n",
    "            # create subplot with 2 panels\n",
    "            gs = gridspec.GridSpec(1, 3, width_ratios=[1,2,1]) \n",
    "            ax1 = plt.subplot(gs[0]); ax1.axis('off') \n",
    "            ax2 = plt.subplot(gs[1]); \n",
    "            ax3 = plt.subplot(gs[2]); ax3.axis('off')\n",
    "        \n",
    "            # scatter points\n",
    "            self.scatter_pts(ax2)\n",
    "            \n",
    "        if np.shape(self.x)[1] == 2:\n",
    "            gs = gridspec.GridSpec(1, 2, width_ratios=[1,1]) \n",
    "            ax1 = plt.subplot(gs[0],projection='3d'); \n",
    "            ax2 = plt.subplot(gs[1],aspect = 'equal'); \n",
    "            #gs.update(wspace=0.025, hspace=0.05) # set spacing between axes. \n",
    "\n",
    "            \n",
    "            # plot points - first in 3d, then from above\n",
    "            self.scatter_pts(ax1)\n",
    "            self.separator_view(ax2)\n",
    "            \n",
    "            # set zaxis to the left\n",
    "            self.move_axis_left(ax1)\n",
    "            \n",
    "            # set view\n",
    "            if 'view' in kwargs:\n",
    "                view = kwargs['view']\n",
    "                ax1.view_init(view[0],view[1])\n",
    "        \n",
    "    # scatter points\n",
    "    def scatter_pts(self,ax):\n",
    "        if np.shape(self.x)[1] == 1:\n",
    "            # set plotting limits\n",
    "            xmax = copy.deepcopy(max(self.x))\n",
    "            xmin = copy.deepcopy(min(self.x))\n",
    "            xgap = (xmax - xmin)*0.2\n",
    "            xmin -= xgap\n",
    "            xmax += xgap\n",
    "            \n",
    "            ymax = max(self.y)\n",
    "            ymin = min(self.y)\n",
    "            ygap = (ymax - ymin)*0.2\n",
    "            ymin -= ygap\n",
    "            ymax += ygap    \n",
    "\n",
    "            # initialize points\n",
    "            ax.scatter(self.x,self.y,color = 'k', edgecolor = 'w',linewidth = 0.9,s = 40)\n",
    "\n",
    "            # clean up panel\n",
    "            ax.set_xlim([xmin,xmax])\n",
    "            ax.set_ylim([ymin,ymax])\n",
    "            \n",
    "            # label axes\n",
    "            ax.set_xlabel(r'$x$', fontsize = 12)\n",
    "            ax.set_ylabel(r'$y$', rotation = 0,fontsize = 12)\n",
    "            ax.set_title('data', fontsize = 13)\n",
    "            \n",
    "            ax.axhline(y=0, color='k',zorder = 0,linewidth = 0.5)\n",
    "            ax.axvline(x=0, color='k',zorder = 0,linewidth = 0.5)\n",
    "            \n",
    "        if np.shape(self.x)[1] == 2:\n",
    "            # set plotting limits\n",
    "            xmax1 = copy.deepcopy(max(self.x[:,0]))\n",
    "            xmin1 = copy.deepcopy(min(self.x[:,0]))\n",
    "            xgap1 = (xmax1 - xmin1)*0.35\n",
    "            xmin1 -= xgap1\n",
    "            xmax1 += xgap1\n",
    "            \n",
    "            xmax2 = copy.deepcopy(max(self.x[:,0]))\n",
    "            xmin2 = copy.deepcopy(min(self.x[:,0]))\n",
    "            xgap2 = (xmax2 - xmin2)*0.35\n",
    "            xmin2 -= xgap2\n",
    "            xmax2 += xgap2\n",
    "            \n",
    "            ymax = max(self.y)\n",
    "            ymin = min(self.y)\n",
    "            ygap = (ymax - ymin)*0.2\n",
    "            ymin -= ygap\n",
    "            ymax += ygap    \n",
    "\n",
    "            # scatter points in both panels\n",
    "            class_nums = np.unique(self.y)\n",
    "            C = len(class_nums)\n",
    "            for c in range(C):\n",
    "                ind = np.argwhere(self.y == class_nums[c])\n",
    "                ind = [v[0] for v in ind]\n",
    "                ax.scatter(self.x[ind,0],self.x[ind,1],self.y[ind],s = 80,color = self.colors[c],edgecolor = 'k',linewidth = 1.5)\n",
    "\n",
    "            # clean up panel\n",
    "            ax.set_xlim([xmin1,xmax1])\n",
    "            ax.set_ylim([xmin2,xmax2])\n",
    "            ax.set_zlim([ymin,ymax])\n",
    "            \n",
    "            ax.set_xticks(np.arange(round(xmin1) +1, round(xmax1), 1.0))\n",
    "            ax.set_yticks(np.arange(round(xmin2) +1, round(xmax2), 1.0))\n",
    "            ax.set_zticks([-1,0,1])\n",
    "            \n",
    "            # label axes\n",
    "            ax.set_xlabel(r'$x_1$', fontsize = 12,labelpad = 5)\n",
    "            ax.set_ylabel(r'$x_2$', rotation = 0,fontsize = 12,labelpad = 5)\n",
    "            ax.set_zlabel(r'$y$', rotation = 0,fontsize = 12,labelpad = -3)\n",
    "\n",
    "            # clean up panel\n",
    "            ax.xaxis.pane.fill = False\n",
    "            ax.yaxis.pane.fill = False\n",
    "            ax.zaxis.pane.fill = False\n",
    "\n",
    "            ax.xaxis.pane.set_edgecolor('white')\n",
    "            ax.yaxis.pane.set_edgecolor('white')\n",
    "            ax.zaxis.pane.set_edgecolor('white')\n",
    "\n",
    "            ax.xaxis._axinfo[\"grid\"]['color'] =  (1,1,1,0)\n",
    "            ax.yaxis._axinfo[\"grid\"]['color'] =  (1,1,1,0)\n",
    "            ax.zaxis._axinfo[\"grid\"]['color'] =  (1,1,1,0)\n",
    "\n",
    "    # plot data 'from above' in seperator view\n",
    "    def separator_view(self,ax):\n",
    "        # set plotting limits\n",
    "        xmax1 = copy.deepcopy(max(self.x[:,0]))\n",
    "        xmin1 = copy.deepcopy(min(self.x[:,0]))\n",
    "        xgap1 = (xmax1 - xmin1)*0.05\n",
    "        xmin1 -= xgap1\n",
    "        xmax1 += xgap1\n",
    "            \n",
    "        xmax2 = copy.deepcopy(max(self.x[:,0]))\n",
    "        xmin2 = copy.deepcopy(min(self.x[:,0]))\n",
    "        xgap2 = (xmax2 - xmin2)*0.05\n",
    "        xmin2 -= xgap2\n",
    "        xmax2 += xgap2\n",
    "            \n",
    "        ymax = max(self.y)\n",
    "        ymin = min(self.y)\n",
    "        ygap = (ymax - ymin)*0.2\n",
    "        ymin -= ygap\n",
    "        ymax += ygap    \n",
    "\n",
    "        # scatter points\n",
    "        classes = np.unique(self.y)\n",
    "        count = 0\n",
    "        for num in classes:\n",
    "            inds = np.argwhere(self.y == num)\n",
    "            inds = [s[0] for s in inds]\n",
    "            plt.scatter(self.data[inds,0],self.data[inds,1],color = self.colors[int(count)],linewidth = 1,marker = 'o',edgecolor = 'k',s = 50)\n",
    "            count+=1\n",
    "            \n",
    "        # clean up panel\n",
    "        ax.set_xlim([xmin1,xmax1])\n",
    "        ax.set_ylim([xmin2,xmax2])\n",
    "\n",
    "        ax.set_xticks(np.arange(round(xmin1), round(xmax1) + 1, 1.0))\n",
    "        ax.set_yticks(np.arange(round(xmin2), round(xmax2) + 1, 1.0))\n",
    "\n",
    "        # label axes\n",
    "        ax.set_xlabel(r'$x_1$', fontsize = 12,labelpad = 0)\n",
    "        ax.set_ylabel(r'$x_2$', rotation = 0,fontsize = 12,labelpad = 5)\n",
    "            \n",
    "    # plot points on contour\n",
    "    def plot_pts_on_contour(self,ax,j,color):\n",
    "        # plot connector between points for visualization purposes\n",
    "        w_old = self.w_hist[j-1]\n",
    "        w_new = self.w_hist[j]\n",
    "        g_old = self.g(w_old)\n",
    "        g_new = self.g(w_new)\n",
    "     \n",
    "        ax.plot([w_old[0],w_new[0]],[w_old[1],w_new[1]],color = color,linewidth = 3,alpha = 1,zorder = 2)      # plot approx\n",
    "        ax.plot([w_old[0],w_new[0]],[w_old[1],w_new[1]],color = 'k',linewidth = 3 + 1,alpha = 1,zorder = 1)      # plot approx\n",
    "    \n",
    "    ###### function plotting functions #######\n",
    "    def plot_ls_cost(self,**kwargs):\n",
    "        # construct figure\n",
    "        fig, axs = plt.subplots(1, 2, figsize=(8,3))\n",
    "\n",
    "        # create subplot with 2 panels\n",
    "        gs = gridspec.GridSpec(1, 2, width_ratios=[1,1]) \n",
    "        ax1 = plt.subplot(gs[0],aspect = 'equal'); \n",
    "        ax2 = plt.subplot(gs[1],projection='3d'); \n",
    "        \n",
    "        # pull user-defined args\n",
    "        viewmax = 3\n",
    "        if 'viewmax' in kwargs:\n",
    "            viewmax = kwargs['viewmax']\n",
    "        view = [20,100]\n",
    "        if 'view' in kwargs:\n",
    "            view = kwargs['view']\n",
    "        num_contours = 15\n",
    "        if 'num_contours' in kwargs:\n",
    "            num_contours = kwargs['num_contours']\n",
    "        \n",
    "        # make contour plot in left panel\n",
    "        self.contour_plot(ax1,viewmax,num_contours)\n",
    "        \n",
    "        # make contour plot in right panel\n",
    "        self.surface_plot(ax2,viewmax,view)\n",
    "        \n",
    "        plt.show()\n",
    "        \n",
    "    ### visualize the surface plot of cost function ###\n",
    "    def surface_plot(self,ax,wmax,view):\n",
    "        ##### Produce cost function surface #####\n",
    "        wmax += wmax*0.1\n",
    "        r = np.linspace(-wmax,wmax,200)\n",
    "\n",
    "        # create grid from plotting range\n",
    "        w1_vals,w2_vals = np.meshgrid(r,r)\n",
    "        w1_vals.shape = (len(r)**2,1)\n",
    "        w2_vals.shape = (len(r)**2,1)\n",
    "        w_ = np.concatenate((w1_vals,w2_vals),axis = 1)\n",
    "        g_vals = []\n",
    "        for i in range(len(r)**2):\n",
    "            g_vals.append(self.g(w_[i,:]))\n",
    "        g_vals = np.asarray(g_vals)\n",
    "\n",
    "        # reshape and plot the surface, as well as where the zero-plane is\n",
    "        w1_vals.shape = (np.size(r),np.size(r))\n",
    "        w2_vals.shape = (np.size(r),np.size(r))\n",
    "        g_vals.shape = (np.size(r),np.size(r))\n",
    "        \n",
    "        # plot cost surface\n",
    "        ax.plot_surface(w1_vals,w2_vals,g_vals,alpha = 0.1,color = 'w',rstride=25, cstride=25,linewidth=1,edgecolor = 'k',zorder = 2)  \n",
    "        \n",
    "        # clean up panel\n",
    "        ax.xaxis.pane.fill = False\n",
    "        ax.yaxis.pane.fill = False\n",
    "        ax.zaxis.pane.fill = False\n",
    "\n",
    "        ax.xaxis.pane.set_edgecolor('white')\n",
    "        ax.yaxis.pane.set_edgecolor('white')\n",
    "        ax.zaxis.pane.set_edgecolor('white')\n",
    "\n",
    "        ax.xaxis._axinfo[\"grid\"]['color'] =  (1,1,1,0)\n",
    "        ax.yaxis._axinfo[\"grid\"]['color'] =  (1,1,1,0)\n",
    "        ax.zaxis._axinfo[\"grid\"]['color'] =  (1,1,1,0)\n",
    "\n",
    "        ax.set_xlabel(r'$w_0$',fontsize = 12)\n",
    "        ax.set_ylabel(r'$w_1$',fontsize = 12,rotation = 0)\n",
    "        ax.set_title(r'$g\\left(w_0,w_1\\right)$',fontsize = 13)\n",
    "\n",
    "        ax.view_init(view[0],view[1])\n",
    "        \n",
    "    ### visualize contour plot of cost function ###\n",
    "    def contour_plot(self,ax,wmax,num_contours):\n",
    "        \n",
    "        #### define input space for function and evaluate ####\n",
    "        w1 = np.linspace(-wmax,wmax,100)\n",
    "        w2 = np.linspace(-wmax,wmax,100)\n",
    "        w1_vals, w2_vals = np.meshgrid(w1,w2)\n",
    "        w1_vals.shape = (len(w1)**2,1)\n",
    "        w2_vals.shape = (len(w2)**2,1)\n",
    "        h = np.concatenate((w1_vals,w2_vals),axis=1)\n",
    "        func_vals = np.asarray([ self.g(np.reshape(s,(2,1))) for s in h])\n",
    "\n",
    "        #func_vals = np.asarray([self.g(s) for s in h])\n",
    "        w1_vals.shape = (len(w1),len(w1))\n",
    "        w2_vals.shape = (len(w2),len(w2))\n",
    "        func_vals.shape = (len(w1),len(w2)) \n",
    "\n",
    "        ### make contour right plot - as well as horizontal and vertical axes ###\n",
    "        # set level ridges\n",
    "        levelmin = min(func_vals.flatten())\n",
    "        levelmax = max(func_vals.flatten())\n",
    "        cutoff = 0.5\n",
    "        cutoff = (levelmax - levelmin)*cutoff\n",
    "        numper = 3\n",
    "        levels1 = np.linspace(cutoff,levelmax,numper)\n",
    "        num_contours -= numper\n",
    "\n",
    "        levels2 = np.linspace(levelmin,cutoff,min(num_contours,numper))\n",
    "        levels = np.unique(np.append(levels1,levels2))\n",
    "        num_contours -= numper\n",
    "        while num_contours > 0:\n",
    "            cutoff = levels[1]\n",
    "            levels2 = np.linspace(levelmin,cutoff,min(num_contours,numper))\n",
    "            levels = np.unique(np.append(levels2,levels))\n",
    "            num_contours -= numper\n",
    "\n",
    "        a = ax.contour(w1_vals, w2_vals, func_vals,levels = levels,colors = 'k')\n",
    "        ax.contourf(w1_vals, w2_vals, func_vals,levels = levels,cmap = 'Blues')\n",
    "                \n",
    "        # clean up panel\n",
    "        ax.set_xlabel('$w_0$',fontsize = 12)\n",
    "        ax.set_ylabel('$w_1$',fontsize = 12,rotation = 0)\n",
    "        ax.set_title(r'$g\\left(w_0,w_1\\right)$',fontsize = 13)\n",
    "\n",
    "        ax.axhline(y=0, color='k',zorder = 0,linewidth = 0.5)\n",
    "        ax.axvline(x=0, color='k',zorder = 0,linewidth = 0.5)\n",
    "        ax.set_xlim([-wmax,wmax])\n",
    "        ax.set_ylim([-wmax,wmax])"
   ]
  },
  {
   "cell_type": "code",
   "execution_count": 40,
   "id": "041cf366",
   "metadata": {},
   "outputs": [
    {
     "data": {
      "text/plain": [
       "array([[-0.23956129,  1.42833169, -0.0189242 , -0.18576562, -0.17704607,\n",
       "         0.9175623 , -0.09652376],\n",
       "       [ 0.        ,  1.        ,  0.        ,  0.        ,  0.        ,\n",
       "         1.        ,  0.        ]])"
      ]
     },
     "execution_count": 40,
     "metadata": {},
     "output_type": "execute_result"
    }
   ],
   "source": [
    "data = np.concatenate((xPoints,yPoints))\n",
    "data"
   ]
  },
  {
   "cell_type": "code",
   "execution_count": 41,
   "id": "6906f397",
   "metadata": {},
   "outputs": [
    {
     "data": {
      "image/png": "[encoded data removed]",
      "text/plain": [
       "<Figure size 1200x500 with 2 Axes>"
      ]
     },
     "metadata": {},
     "output_type": "display_data"
    }
   ],
   "source": [
    "## --- Estilo --\n",
    "putStyle(14,2,True,True)\n",
    "## -------------\n",
    "\n",
    "# Ajuste de la data\n",
    "figOpt1 = ShowLS1(data,sigmoid_least_squaresLS1)\n",
    "\n",
    "# Como se mueve el gradiente tambien ... \n",
    "figOpt1.static_fig(w_hist,  num_contours = 45,viewmax = 80)"
   ]
  },
  {
   "cell_type": "markdown",
   "id": "21c38e4c",
   "metadata": {},
   "source": [
    "<img src=\"Clase1_v2/Clase1_v2.020.png\" style=\"width:600;height:400px;\">\n",
    "-----------------------------------------------------------------------------------------------------------------------------\n",
    "<img src=\"Clase1_v2/Clase1_v2.026.png\" style=\"width:600;height:400px;\">\n",
    "-----------------------------------------------------------------------------------------------------------------------------"
   ]
  },
  {
   "cell_type": "markdown",
   "id": "b13ef078",
   "metadata": {},
   "source": [
    "# Ecuaciones fundamentales de la celda LSTM:"
   ]
  },
  {
   "cell_type": "markdown",
   "id": "d3b98f8d",
   "metadata": {},
   "source": [
    "<div class=\"alert alert-block alert-info\" style=\"font-size:24px; font-family:verdana; line-height: 1.7em;\">\n",
    "    📌 &nbsp; \n",
    "\n",
    "$$ f_t = \\sigma_g(W_f x_t + U_f h_{(t-1)}+b_f) $$\n",
    "$$ i_t = \\sigma_g(W_i x_t + U_i h_{(t-1)}+b_i) $$\n",
    "$$ o_t = \\sigma_g(W_o x_t + U_o h_{(t-1)}+b_o) $$\n",
    "$$ \\tilde{c}_t = \\sigma_g(W_c x_t + U_c h_{(t-1)}+b_c) $$\n",
    "$$ c_{t} = f_{t}\\circ c_{t-1}+i_{t}\\circ {\\tilde {c}}_{t} $$\n",
    "$$ h_{t} = o_{t}\\circ \\sigma _{h}(c_{t}) $$\n",
    "    \n",
    "</div>"
   ]
  },
  {
   "cell_type": "markdown",
   "id": "c1bd992b",
   "metadata": {},
   "source": [
    "<img src=\"Clase1_v2/Clase1_v2.016.png\" style=\"width:600;height:400px;\">"
   ]
  },
  {
   "cell_type": "code",
   "execution_count": null,
   "id": "4c66eebf",
   "metadata": {},
   "outputs": [],
   "source": []
  },
  {
   "cell_type": "code",
   "execution_count": null,
   "id": "1832255e",
   "metadata": {},
   "outputs": [],
   "source": []
  },
  {
   "cell_type": "code",
   "execution_count": null,
   "id": "855ae9ab",
   "metadata": {},
   "outputs": [],
   "source": []
  },
  {
   "cell_type": "markdown",
   "id": "03c541ea",
   "metadata": {},
   "source": [
    "# TensorFlow: una herramienta util para producir Machine Learning rapidamente."
   ]
  },
  {
   "cell_type": "code",
   "execution_count": null,
   "id": "197fc28e",
   "metadata": {},
   "outputs": [],
   "source": [
    "import tensorflow as tf\n",
    "import keras\n",
    "from keras.models import Sequential\n",
    "from keras.layers import Dense, Activation\n",
    "opt = tf.keras.optimizers.SGD()"
   ]
  },
  {
   "cell_type": "markdown",
   "id": "38e3cff1",
   "metadata": {},
   "source": [
    "## Generación de datos de pruebas (siempre!)"
   ]
  },
  {
   "cell_type": "code",
   "execution_count": null,
   "id": "41c29ef8",
   "metadata": {},
   "outputs": [],
   "source": [
    "n=3\n",
    "y_0_Test = np.random.randint(2, size=(n, 1))\n",
    "y_0_Test"
   ]
  },
  {
   "cell_type": "code",
   "execution_count": null,
   "id": "1db2f37f",
   "metadata": {},
   "outputs": [],
   "source": [
    "switch_Test = np.random.random(size=(n, 1)) <= 0.9\n",
    "switch_Test"
   ]
  },
  {
   "cell_type": "code",
   "execution_count": null,
   "id": "2a7bd6da",
   "metadata": {},
   "outputs": [],
   "source": [
    "y_1_Test = ~y_0_Test  & switch_Test\n",
    "y_1_Test"
   ]
  },
  {
   "cell_type": "code",
   "execution_count": null,
   "id": "774c952d",
   "metadata": {},
   "outputs": [],
   "source": [
    "y_2_Test = ~y_0_Test  & ~switch_Test\n",
    "y_2_Test"
   ]
  },
  {
   "cell_type": "code",
   "execution_count": null,
   "id": "32be823f",
   "metadata": {},
   "outputs": [],
   "source": [
    "np.concatenate([y_0_Test, y_1_Test, y_2_Test], axis=1)"
   ]
  },
  {
   "cell_type": "code",
   "execution_count": null,
   "id": "5a109929",
   "metadata": {},
   "outputs": [],
   "source": [
    "np.random.normal(size=n)"
   ]
  },
  {
   "cell_type": "code",
   "execution_count": null,
   "id": "d3d56cc6",
   "metadata": {},
   "outputs": [],
   "source": [
    "y_0_Test + np.random.normal(size=n) # / 5  #[np.newaxis].T"
   ]
  },
  {
   "cell_type": "markdown",
   "id": "3ab74ed7",
   "metadata": {},
   "source": [
    "..."
   ]
  },
  {
   "cell_type": "code",
   "execution_count": null,
   "id": "64d0049a",
   "metadata": {},
   "outputs": [],
   "source": [
    "## -- Una función: Explicar un poco.\n",
    "def sample_Classes(nClasses, n, ratio=0.8):\n",
    "    np.random.seed(42)\n",
    "    y_0 = np.random.randint(2, size=(n, 1))\n",
    "    switch = (np.random.random(size=(n, 1)) <= ratio)\n",
    "    ## Posiblemente explicar estos operadores logicos!\n",
    "    ## & = AND    -     ~ = NOT \n",
    "    y_1 = ~y_0 & switch\n",
    "    y_2 = ~y_0 & ~switch\n",
    "    y = np.concatenate([y_0, y_1, y_2], axis=1)\n",
    "    \n",
    "    X = y_0 + (np.random.normal(size=n) / 5)[np.newaxis].T\n",
    "    return (X, y)\n",
    "\n",
    "\n",
    "## Generar la data sintetica\n",
    "nClasses = 3\n",
    "X_train, y_train = sample_Classes(nClasses, 1000)\n",
    "X_test, y_test = sample_Classes(nClasses, 100)"
   ]
  },
  {
   "cell_type": "code",
   "execution_count": null,
   "id": "1c87f06a",
   "metadata": {},
   "outputs": [],
   "source": [
    "X_train[:,0].shape, y_train[:,0].shape"
   ]
  },
  {
   "cell_type": "code",
   "execution_count": null,
   "id": "ca09f470",
   "metadata": {},
   "outputs": [],
   "source": [
    "X_train[:10]"
   ]
  },
  {
   "cell_type": "code",
   "execution_count": null,
   "id": "51adf8b8",
   "metadata": {},
   "outputs": [],
   "source": [
    "import matplotlib.pyplot as plt\n",
    "plt.scatter(X_train[:, 0], y_train[:, 0], marker='x', c=y_train)"
   ]
  },
  {
   "cell_type": "markdown",
   "id": "ad3ab18c",
   "metadata": {},
   "source": [
    "# Creación de una minuscula Red Neuronal \n",
    "# tres perceptrones, con función de activación Lineal (mx+b)"
   ]
  },
  {
   "cell_type": "code",
   "execution_count": null,
   "id": "1a2b0aa9",
   "metadata": {},
   "outputs": [],
   "source": [
    "clf = Sequential()\n",
    "clf.add(Dense(3, activation='linear', input_shape=(1,), name='hidden'))\n",
    "clf.add(Dense(nClasses, activation='softmax', name='out'))\n",
    "clf.compile(loss='categorical_crossentropy', optimizer=opt, metrics=['accuracy'])"
   ]
  },
  {
   "cell_type": "code",
   "execution_count": null,
   "id": "55bc5258",
   "metadata": {},
   "outputs": [],
   "source": [
    "dot_img_file = './model_1.png'\n",
    "tf.keras.utils.plot_model(clf, to_file=dot_img_file, show_shapes=True)"
   ]
  },
  {
   "cell_type": "code",
   "execution_count": null,
   "id": "eda659f3",
   "metadata": {},
   "outputs": [],
   "source": [
    "clf.fit(X_train, y_train, epochs=10, batch_size=16)"
   ]
  },
  {
   "cell_type": "code",
   "execution_count": null,
   "id": "7c2e3f60",
   "metadata": {},
   "outputs": [],
   "source": [
    "## Punto a predecir \n",
    "npre=767\n",
    "print('Esta es la predicción: {}. \\\n",
    "Y este el valor real{}'.format(clf.predict(X_train[npre]), y_train[npre]))"
   ]
  },
  {
   "cell_type": "markdown",
   "id": "c0d28d2d",
   "metadata": {},
   "source": [
    "# Una función logistica (sigmoid):\n",
    "<div class=\"alert alert-block alert-info\" style=\"font-size:24px; font-family:verdana; line-height: 1.7em;\">\n",
    "    📌 &nbsp; \n",
    "\n",
    "$$ \\sigma(x) = \\frac{e^x}{e^x+1} $$\n",
    "\n",
    "</div>"
   ]
  },
  {
   "cell_type": "code",
   "execution_count": null,
   "id": "b03013fe",
   "metadata": {},
   "outputs": [],
   "source": [
    "def logistic_func(x): \n",
    "    return np.e**x/(np.e**x + 1)"
   ]
  },
  {
   "cell_type": "code",
   "execution_count": null,
   "id": "1ea42ea4",
   "metadata": {},
   "outputs": [],
   "source": [
    "import matplotlib.pyplot as plt\n",
    "%matplotlib inline\n",
    "inpX = np.arange(-7, 7, 0.6)\n",
    "plt.plot(inpX, \n",
    "         [logistic_func(x) for x in inpX]\n",
    "        , color = 'orange', marker = \"o\", markersize=17)"
   ]
  },
  {
   "cell_type": "code",
   "execution_count": null,
   "id": "21f2aa3d",
   "metadata": {},
   "outputs": [],
   "source": [
    "## Generar la data sintetica\n",
    "nClases = 3\n",
    "X_train, y_train = sample_Classes(nClases, 1000)\n",
    "X_test, y_test = sample_Classes(nClases, 100)"
   ]
  },
  {
   "cell_type": "code",
   "execution_count": null,
   "id": "bf597d23",
   "metadata": {},
   "outputs": [],
   "source": [
    "clf = Sequential()\n",
    "clf.add(Dense(3, activation='sigmoid', input_shape=(1,), name='hidden'))\n",
    "clf.add(Dense(3, activation='softmax', name='out'))\n",
    "clf.compile(loss='categorical_crossentropy', optimizer=opt, metrics=['accuracy'])\n",
    "\n",
    "clf.fit(X_train, y_train, epochs=20, batch_size=16, verbose=1)"
   ]
  },
  {
   "cell_type": "code",
   "execution_count": null,
   "id": "a63c4567",
   "metadata": {},
   "outputs": [],
   "source": [
    "fig = plt.figure(figsize=(9, 6))\n",
    "plt.plot(range(len(clf.history.history['accuracy'])), \n",
    "         clf.history.history['accuracy'], \n",
    "         linewidth=4, marker = \"o\", markersize=17)\n",
    "#import seaborn as sns; sns.despine()\n",
    "plt.title(\"Sigmoid Activation Accuracy Per Epoch\", fontsize=20)\n",
    "pass"
   ]
  },
  {
   "cell_type": "markdown",
   "id": "cb3f874a",
   "metadata": {},
   "source": [
    "# Una celda RNN real con TensorFlow, y ver como actua una función de activación Tanh(x):"
   ]
  },
  {
   "cell_type": "code",
   "execution_count": null,
   "id": "bca61d56",
   "metadata": {},
   "outputs": [],
   "source": [
    "y_train.shape"
   ]
  },
  {
   "cell_type": "code",
   "execution_count": null,
   "id": "c0460340",
   "metadata": {},
   "outputs": [],
   "source": [
    "clf = Sequential()\n",
    "clf.add(Dense(3, activation='tanh', input_shape=(1,), name='hidden'))\n",
    "clf.add(Dense(nClasses, activation='softmax', name='out'))\n",
    "clf.compile(loss='categorical_crossentropy', \n",
    "            optimizer=opt, \n",
    "            metrics=['accuracy'])\n",
    "clf.summary()"
   ]
  },
  {
   "cell_type": "code",
   "execution_count": null,
   "id": "6354e7c1",
   "metadata": {},
   "outputs": [],
   "source": [
    "import matplotlib.pyplot as plt\n",
    "%matplotlib inline\n",
    "inpX = np.arange(-7, 7, 0.8)\n",
    "plt.plot(inpX, \n",
    "         [np.tanh(x) for x in inpX]\n",
    "        , color = 'orange', marker = \"o\", markersize=17)"
   ]
  },
  {
   "cell_type": "code",
   "execution_count": null,
   "id": "e5e50420",
   "metadata": {},
   "outputs": [],
   "source": [
    "clf.fit(X_train, y_train, epochs=10, batch_size=4, verbose=1)"
   ]
  },
  {
   "cell_type": "code",
   "execution_count": null,
   "id": "8e374aa2",
   "metadata": {},
   "outputs": [],
   "source": [
    "fig = plt.figure(figsize=(9, 6))\n",
    "plt.plot(range(len(clf.history.history['accuracy'])),\n",
    "         clf.history.history['accuracy'], \n",
    "         linewidth=4, marker = \"o\", markersize=17)\n",
    "import seaborn as sns; sns.despine()\n",
    "plt.title(\"Tanh Activation Accuracy Per Epoch\", fontsize=20)\n",
    "pass"
   ]
  },
  {
   "cell_type": "code",
   "execution_count": null,
   "id": "aec07f35",
   "metadata": {},
   "outputs": [],
   "source": [
    "!pip install sci-kit-learn"
   ]
  },
  {
   "cell_type": "code",
   "execution_count": null,
   "id": "328501ba",
   "metadata": {},
   "outputs": [],
   "source": [
    "from sklearn.metrics import classification_report\n",
    "\n",
    "## Hablar un poco, de que el modelo lo que\n",
    "## predice no es la clase en si, si no las\n",
    "## probabilidades. Asi que convirtamos en clases.\n",
    "\n",
    "y_pred = clf.predict(X_test)\n",
    "y_pred = (y_pred > 0.5).astype(int)\n",
    "\n",
    "print(classification_report(y_test, y_pred))"
   ]
  },
  {
   "cell_type": "markdown",
   "id": "60f2d6b6",
   "metadata": {},
   "source": [
    "# Una celda RNN real con TensorFlow, y ver como actua una función de activación Relu(x):"
   ]
  },
  {
   "cell_type": "code",
   "execution_count": null,
   "id": "b84936b0",
   "metadata": {},
   "outputs": [],
   "source": [
    "def relu(x):\n",
    "    return 0 if x <= 0 else x\n",
    "\n",
    "plt.plot(np.arange(-5, 5, 1), \n",
    "         [relu(x) for x in np.arange(-5, 5, 1)], \n",
    "         linewidth=4, marker = \"o\", markersize=17)\n",
    "pass"
   ]
  },
  {
   "cell_type": "code",
   "execution_count": null,
   "id": "3484d16b",
   "metadata": {},
   "outputs": [],
   "source": [
    "## Preguntar espontaneamente si corremos el modelo\n",
    "## con una función de activación RELU?"
   ]
  },
  {
   "cell_type": "markdown",
   "id": "f32e042f",
   "metadata": {},
   "source": [
    "<img src=\"Clase1_v2/Clase1_v2.020.png\" style=\"width:600;height:400px;\">\n",
    "-----------------------------------------------------------------------------------------------------------------------------\n",
    "<img src=\"Clase1_v2/Clase1_v2.027.png\" style=\"width:600;height:400px;\">\n",
    "-----------------------------------------------------------------------------------------------------------------------------"
   ]
  },
  {
   "cell_type": "markdown",
   "id": "8e6d24a2",
   "metadata": {},
   "source": [
    "# Proyecto final de curso: un código real para generar texto a partir de algún \"corpus\" de texto que consigas"
   ]
  },
  {
   "cell_type": "code",
   "execution_count": null,
   "id": "6a173d17",
   "metadata": {},
   "outputs": [],
   "source": [
    "## -- Revisar que tienes el archivo en este directorio de trabajo\n",
    "## https://arxiv.org/help/bulk_data\n",
    "!ls ./TextGen-tf2/arXiv_DB"
   ]
  },
  {
   "cell_type": "code",
   "execution_count": null,
   "id": "c1788e2b",
   "metadata": {},
   "outputs": [],
   "source": [
    "## -- Levantar y transformar la data\n",
    "import json\n",
    "import re\n",
    "import string\n",
    "import itertools\n",
    "import numpy as np\n",
    "import tqdm"
   ]
  },
  {
   "cell_type": "code",
   "execution_count": null,
   "id": "6d576c1b",
   "metadata": {},
   "outputs": [],
   "source": [
    "## Vamos a probar un modelo basado en palabras y no en carateres.\n",
    "## Al vocabulario sacado del corpus, le vamos a adicionar una lista\n",
    "## muy común de caracteres adicionale.\n",
    "vocab_pre = [n for n in string.printable]"
   ]
  },
  {
   "cell_type": "code",
   "execution_count": null,
   "id": "de2dd0dc",
   "metadata": {},
   "outputs": [],
   "source": [
    "## Una pequeña prueba\n",
    "data_file = './TextGen-tf2/arXiv_DB/arxiv-metadata-oai-snapshot.json'\n",
    "\n",
    "gen_json = \\\n",
    "(json.loads(line) for line in \\\n",
    " itertools.islice(open(data_file,'r'),10))\n",
    "\n",
    "\n",
    "temp = []\n",
    "for line in gen_json:\n",
    "    temp.append(line['abstract'])"
   ]
  },
  {
   "cell_type": "code",
   "execution_count": null,
   "id": "1b83cc50",
   "metadata": {},
   "outputs": [],
   "source": [
    "temp[0]"
   ]
  },
  {
   "cell_type": "code",
   "execution_count": null,
   "id": "102e9ee6",
   "metadata": {},
   "outputs": [],
   "source": [
    "## Tomar una muestra mas grande ...\n",
    "num_examples = 150000\n",
    "\n",
    "# we will consider below 3 categories for training \n",
    "paper_categories = [\"cs.AI\", # Artificial Intelligence\n",
    "                    \"cs.CV\", # Computer Vision and Pattern Recognition\n",
    "                    \"cs.LG\"] # Machine Learning\n",
    "categories=paper_categories\n",
    "\n",
    "## Reading the json per se --\n",
    "gen_json = \\\n",
    "(json.loads(line) for line in \\\n",
    " itertools.islice(open(data_file,'r'),\n",
    "                  num_examples) if json.loads(line).get('categories') in categories)\n",
    "\n",
    "\n",
    "abs_list = []\n",
    "for line in gen_json:\n",
    "    abs = line['abstract'].lower()\n",
    "    abs = re.sub(r'(\\S)\\s+(\\S)',r'\\1 \\2',abs).replace('.\\n','.\\n\\n')\n",
    "    abs = abs.replace('â\\x80\\x99',\"'\")\n",
    "    abs = abs.replace('\\x7f',\"\")\n",
    "    abs = abs.replace('â\\x88\\x9e',\"'\")\n",
    "    abs = abs.replace('â\\x89¤',\"'\")\n",
    "    abs = abs.replace('â\\x80\\x94',\"'\")\n",
    "    abs = abs.replace('â\\x80\\x93',\"-\")\n",
    "  ## Anything custom here! --\n",
    "    abs = abs.replace('â\\x80\\x9c',\"<\")\n",
    "    abs = abs.replace('â\\x80\\x9d',\">\")\n",
    "    abs = abs.replace('.',\" .\")\n",
    "    abs = abs.replace(',',\" ,\")\n",
    "    abs = abs.replace('\\n',\" \\n \")\n",
    "    abs = abs.replace(')',\" ) \")\n",
    "    abs = abs.replace('(',\" ( \")\n",
    "    abs = abs.replace(']',\" ] \")\n",
    "    abs = abs.replace('[',\" [ \")\n",
    "    abs = abs.replace('{',\" } \")\n",
    "  ## -- For the word- based model --\n",
    "    abs_list.append(abs)\n",
    "\n",
    "abs_list = np.array(abs_list)"
   ]
  },
  {
   "cell_type": "code",
   "execution_count": null,
   "id": "89a414d6",
   "metadata": {},
   "outputs": [],
   "source": [
    "## Cantidad de abstracts que leiste!\n",
    "abs_list.shape"
   ]
  },
  {
   "cell_type": "code",
   "execution_count": null,
   "id": "9bb75ea6",
   "metadata": {},
   "outputs": [],
   "source": [
    "abs_list[1].strip()"
   ]
  },
  {
   "cell_type": "code",
   "execution_count": null,
   "id": "89101548",
   "metadata": {},
   "outputs": [],
   "source": [
    "result1 = []\n",
    "for p in abs_list:\n",
    "    result1.append(p.strip())"
   ]
  },
  {
   "cell_type": "code",
   "execution_count": null,
   "id": "0509ddc1",
   "metadata": {},
   "outputs": [],
   "source": [
    "result1[0].strip().split(' ')[:10]"
   ]
  },
  {
   "cell_type": "code",
   "execution_count": null,
   "id": "bedff9d9",
   "metadata": {},
   "outputs": [],
   "source": [
    "words = [w.strip().split(' ') for w in abs_list]"
   ]
  },
  {
   "cell_type": "code",
   "execution_count": null,
   "id": "8b01d81f",
   "metadata": {},
   "outputs": [],
   "source": [
    "## En formato requerido por el entrenaminto\n",
    "words1=[]\n",
    "for p in words:\n",
    "    words1+=p"
   ]
  },
  {
   "cell_type": "code",
   "execution_count": null,
   "id": "5017383e",
   "metadata": {},
   "outputs": [],
   "source": [
    "words1[40:47]"
   ]
  },
  {
   "cell_type": "code",
   "execution_count": null,
   "id": "22e4977e",
   "metadata": {},
   "outputs": [],
   "source": [
    "vocab = words1+vocab_pre\n",
    "\n",
    "vocab = set(vocab)\n",
    "vocab_size = len(vocab)\n",
    "char2idx = {v:idx for idx,v in enumerate(vocab)}\n",
    "idx2char= np.array(vocab)\n",
    "int_to_char = dict((i, c) for i, c in enumerate(vocab))\n",
    "## imprime\n",
    "print(\"El tamaño de este vocabulario (con palabras unicas) es: \", vocab_size)\n",
    "print('\\n')"
   ]
  },
  {
   "cell_type": "code",
   "execution_count": null,
   "id": "6cd12caf",
   "metadata": {},
   "outputs": [],
   "source": [
    "## Hemos convertido palabras en numeros y viceversa\n",
    "list(char2idx.items())[:4]"
   ]
  },
  {
   "cell_type": "markdown",
   "id": "5f279b03",
   "metadata": {},
   "source": [
    "# Creando el modelo"
   ]
  },
  {
   "cell_type": "code",
   "execution_count": null,
   "id": "7c869c66",
   "metadata": {},
   "outputs": [],
   "source": [
    "import os\n",
    "import tensorflow as tf\n",
    "from tensorflow.keras.models import Sequential\n",
    "from tensorflow.keras.layers import Embedding, LSTM, GRU, Dense"
   ]
  },
  {
   "cell_type": "code",
   "execution_count": null,
   "id": "8de62f1e",
   "metadata": {},
   "outputs": [],
   "source": [
    "text_as_int = np.array([char2idx[w] for w in words1], dtype=np.int32)\n",
    "print ('{}\\n Mapped to integers:\\n {}'.format(repr(words1[:10]), text_as_int[:10]))"
   ]
  },
  {
   "cell_type": "code",
   "execution_count": null,
   "id": "04126771",
   "metadata": {},
   "outputs": [],
   "source": [
    "seq_len = 20\n",
    "batch_size = 48\n",
    "dataset = tf.data.Dataset.from_tensor_slices(text_as_int)\n",
    "dataset = dataset.batch(seq_len+1,drop_remainder=True)\n",
    "## x = 'hola como estas' ; y = 'como estas tu?' \n",
    "dataset = dataset.map(lambda x: (x[:-1],  x[1:]))\n",
    "dataset = dataset.shuffle(30).batch(batch_size,drop_remainder=True)"
   ]
  },
  {
   "cell_type": "code",
   "execution_count": null,
   "id": "deecebd2",
   "metadata": {},
   "outputs": [],
   "source": [
    "print([int_to_char[w] for w in text_as_int[:20-1]])\n",
    "print(\"\\n\")\n",
    "print([int_to_char[w] for w in text_as_int[1:20]])"
   ]
  },
  {
   "cell_type": "code",
   "execution_count": null,
   "id": "558f60c5",
   "metadata": {},
   "outputs": [],
   "source": [
    "## Finamente la función que crea el modelo\n",
    "def make_model(vocabulary_size,embedding_dimension,rnn_units,batch_size,stateful):\n",
    "    model = Sequential()\n",
    "    ## ---- Capas (2 LSTM seguidas)\n",
    "    model.add(Embedding(vocabulary_size,embedding_dimension,\n",
    "                      batch_input_shape=[batch_size,None]))\n",
    "    \n",
    "    ## -- Las dos capas van aqui!--------------------------------------\n",
    "    model.add(LSTM(rnn_units,return_sequences=True,stateful=stateful))\n",
    "    model.add(LSTM(rnn_units,return_sequences=True,stateful=stateful))\n",
    "    ## -----------------------------------------------------------------\n",
    "    \n",
    "    model.add(Dense(vocabulary_size))\n",
    "    ## ----\n",
    "    model.compile(loss=tf.keras.losses.SparseCategoricalCrossentropy(from_logits=True),\n",
    "                optimizer='adam',metrics=['accuracy'])\n",
    "    model.summary()\n",
    "    return model"
   ]
  },
  {
   "cell_type": "code",
   "execution_count": null,
   "id": "9ca2c2fd",
   "metadata": {},
   "outputs": [],
   "source": [
    "emb_dim = 12\n",
    "rnn_units = 128\n",
    "model_1 = make_model(vocab_size,emb_dim,rnn_units,batch_size,False)"
   ]
  },
  {
   "cell_type": "markdown",
   "id": "940df906",
   "metadata": {},
   "source": [
    "# Entrenando el modelo"
   ]
  },
  {
   "cell_type": "code",
   "execution_count": null,
   "id": "4b32d2b4",
   "metadata": {},
   "outputs": [],
   "source": [
    "#- localmente , y para testeos iniciales --\n",
    "checkpoint_dir = './checkpoints_Curso_v1'\n",
    "checkpoint_prefix = os.path.join(checkpoint_dir, \"ckpt_{epoch}\")\n",
    "\n",
    "##---\n",
    "checkpoint_callback=tf.keras.callbacks.ModelCheckpoint(\n",
    "    filepath=checkpoint_prefix,\n",
    "    save_weights_only=True)"
   ]
  },
  {
   "cell_type": "code",
   "execution_count": null,
   "id": "da7db071",
   "metadata": {},
   "outputs": [],
   "source": [
    "history1 = model_1.fit(dataset, \n",
    "                    epochs=20, batch_size=batch_size,\n",
    "                    callbacks=[checkpoint_callback])"
   ]
  },
  {
   "cell_type": "code",
   "execution_count": null,
   "id": "48058686",
   "metadata": {},
   "outputs": [],
   "source": [
    "import matplotlib.pyplot as plt\n",
    "\n",
    "plt.figure(figsize=(10,6))\n",
    "plt.plot(history1.history['loss'], 'g',color = 'blue', marker = \"o\", markersize=17)\n",
    "plt.plot(history1.history['accuracy'], 'rx')\n",
    "plt.title('Model Loss')\n",
    "plt.ylabel('Loss')\n",
    "plt.xlabel('Epoch')\n",
    "plt.legend(['Train'], loc='upper right')\n",
    "plt.legend(['Train', 'Validation'], loc='upper right')\n",
    "plt.show()"
   ]
  },
  {
   "cell_type": "code",
   "execution_count": null,
   "id": "f427f3eb",
   "metadata": {},
   "outputs": [],
   "source": [
    "# -- si ha estado dificil -- guardar --\n",
    "filename1='model_LSTM_Words1_param.hdf5'\n",
    "model_1.save('./'+filename1)"
   ]
  },
  {
   "cell_type": "code",
   "execution_count": null,
   "id": "9d940490",
   "metadata": {},
   "outputs": [],
   "source": [
    "model_1 = make_model(vocab_size,emb_dim,rnn_units,1,True)\n",
    "model_1.load_weights(tf.train.latest_checkpoint(checkpoint_dir))\n",
    "model_1.build(tf.TensorShape([1,None]))"
   ]
  },
  {
   "cell_type": "markdown",
   "id": "d7ab0479",
   "metadata": {},
   "source": [
    "# Generando texto nuevo!"
   ]
  },
  {
   "cell_type": "code",
   "execution_count": null,
   "id": "36c11783",
   "metadata": {},
   "outputs": [],
   "source": [
    "def generate_text(model,seed,num_characters,remember1):\n",
    "    seed_text = tf.expand_dims([char2idx[k] for k in seed.split(' ')],0)\n",
    "    generated_text = []\n",
    "    ## -- If you want to remember, then commented. Otherwise UN-coment\n",
    "    if remember1: model.reset_states()\n",
    "    for n in range(num_characters+1):\n",
    "        result = tf.random.categorical(model(seed_text)[0,-1:],num_samples=1)\n",
    "        result = result[0,0].numpy()\n",
    "        generated_text.append(result)\n",
    "        seed_text = tf.expand_dims([result],0)\n",
    "    return ' '.join([int_to_char[k] for k in generated_text])"
   ]
  },
  {
   "cell_type": "markdown",
   "id": "1461a001",
   "metadata": {},
   "source": [
    "# Generar una linea de texto nuevo!"
   ]
  },
  {
   "cell_type": "code",
   "execution_count": null,
   "id": "9e096867",
   "metadata": {},
   "outputs": [],
   "source": [
    "## -- If you want to remember = False\n",
    "remember1a=True\n",
    "## -- The number of words to generate per line --\n",
    "char2Gen=10\n",
    "\n",
    "## Ex. 3 ----\n",
    "nchar=36\n",
    "nexte=6*char2Gen #\n",
    "seed = str(result1[0][:nchar]).strip()\n",
    "seedN = str(result1[0][nchar:nchar+nexte]).strip()\n",
    "\n",
    "print('Seed --: '+seed+' <--> \\n')\n",
    "##---\n",
    "for k in range(1):\n",
    "    temp = generate_text(model_1,seed,char2Gen,remember1a)\n",
    "    print('Pred.--: '+temp)\n",
    "\n",
    "print('True --: '+seedN+' <--> \\n')"
   ]
  },
  {
   "cell_type": "markdown",
   "id": "9dde710e",
   "metadata": {},
   "source": [
    "# Generar varias lineas! "
   ]
  },
  {
   "cell_type": "code",
   "execution_count": null,
   "id": "19f06c1f",
   "metadata": {},
   "outputs": [],
   "source": [
    "## -- If you want to remember = False\n",
    "remember1a=False\n",
    "## -- The number of words to generate per line --\n",
    "char2Gen=10\n",
    "\n",
    "## Ex. 1 ----\n",
    "nchar=36\n",
    "nexte=30\n",
    "seed = str(result1[0][:nchar]).strip()\n",
    "seedN = str(result1[0][nchar+1:nchar+1+nexte]).strip()\n",
    "\n",
    "print('--: '+seed+' <--> \\n')\n",
    "##---\n",
    "#print('** This is the generated text! **:')\n",
    "for k in range(7):\n",
    "    temp = generate_text(model_1,seed,char2Gen,remember1a)\n",
    "    print(temp)\n",
    "print('-'*80)"
   ]
  },
  {
   "cell_type": "markdown",
   "id": "465030fb",
   "metadata": {},
   "source": [
    "# Comentarios finales"
   ]
  },
  {
   "cell_type": "code",
   "execution_count": null,
   "id": "a4fda797",
   "metadata": {},
   "outputs": [],
   "source": []
  },
  {
   "cell_type": "markdown",
   "id": "6184f63e",
   "metadata": {},
   "source": [
    "<img src=\"Clase1_v2/Clase1_v2.028.png\" style=\"width:600;height:400px;\">"
   ]
  },
  {
   "cell_type": "code",
   "execution_count": null,
   "id": "130ad540",
   "metadata": {},
   "outputs": [],
   "source": []
  }
 ],
 "metadata": {
  "kernelspec": {
   "display_name": "vaetf1env",
   "language": "python",
   "name": "vaetf1env"
  },
  "language_info": {
   "codemirror_mode": {
    "name": "ipython",
    "version": 3
   },
   "file_extension": ".py",
   "mimetype": "text/x-python",
   "name": "python",
   "nbconvert_exporter": "python",
   "pygments_lexer": "ipython3",
   "version": "3.8.12"
  },
  "varInspector": {
   "cols": {
    "lenName": 16,
    "lenType": 16,
    "lenVar": 40
   },
   "kernels_config": {
    "python": {
     "delete_cmd_postfix": "",
     "delete_cmd_prefix": "del ",
     "library": "var_list.py",
     "varRefreshCmd": "print(var_dic_list())"
    },
    "r": {
     "delete_cmd_postfix": ") ",
     "delete_cmd_prefix": "rm(",
     "library": "var_list.r",
     "varRefreshCmd": "cat(var_dic_list()) "
    }
   },
   "types_to_exclude": [
    "module",
    "function",
    "builtin_function_or_method",
    "instance",
    "_Feature"
   ],
   "window_display": false
  }
 },
 "nbformat": 4,
 "nbformat_minor": 5
}
